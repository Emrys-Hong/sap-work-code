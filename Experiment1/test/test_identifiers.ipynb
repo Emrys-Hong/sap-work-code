{
 "cells": [
  {
   "cell_type": "code",
   "execution_count": 1,
   "metadata": {},
   "outputs": [],
   "source": [
    "import pandas as pd"
   ]
  },
  {
   "cell_type": "code",
   "execution_count": 7,
   "metadata": {},
   "outputs": [],
   "source": [
    "cleaned_up_raw_txt = pd.read_excel('cleaned_up_raw_txt.xls')"
   ]
  },
  {
   "cell_type": "code",
   "execution_count": 8,
   "metadata": {},
   "outputs": [
    {
     "data": {
      "text/html": [
       "<div>\n",
       "<style scoped>\n",
       "    .dataframe tbody tr th:only-of-type {\n",
       "        vertical-align: middle;\n",
       "    }\n",
       "\n",
       "    .dataframe tbody tr th {\n",
       "        vertical-align: top;\n",
       "    }\n",
       "\n",
       "    .dataframe thead th {\n",
       "        text-align: right;\n",
       "    }\n",
       "</style>\n",
       "<table border=\"1\" class=\"dataframe\">\n",
       "  <thead>\n",
       "    <tr style=\"text-align: right;\">\n",
       "      <th></th>\n",
       "      <th>AddressLine1</th>\n",
       "      <th>AddressLine2</th>\n",
       "      <th>AddressLine3</th>\n",
       "      <th>Country code</th>\n",
       "      <th>CustomerConfirmationNumber</th>\n",
       "      <th>Parcel Label Photo</th>\n",
       "      <th>Recipient email</th>\n",
       "      <th>Recipient name</th>\n",
       "      <th>Recipient phone</th>\n",
       "      <th>Recipient state</th>\n",
       "      <th>Recipient zipcode</th>\n",
       "      <th>Unnamed: 11</th>\n",
       "      <th>AddressLine1.1</th>\n",
       "      <th>text</th>\n",
       "      <th>อำเภอ District</th>\n",
       "    </tr>\n",
       "  </thead>\n",
       "  <tbody>\n",
       "    <tr>\n",
       "      <th>1384</th>\n",
       "      <td>บ.เอสแอนด์เจ อินเตอร์เนชั่นแนล อินเดอร์ไพร 600...</td>\n",
       "      <td>องขาม</td>\n",
       "      <td>NaN</td>\n",
       "      <td></td>\n",
       "      <td>TDPSE04201708179</td>\n",
       "      <td>https://dhl.fareye.co/img/2017-08-11/4/cust_15...</td>\n",
       "      <td></td>\n",
       "      <td>รัตนาวลี</td>\n",
       "      <td>952507257</td>\n",
       "      <td>ชลบุรี</td>\n",
       "      <td>20230</td>\n",
       "      <td>1384</td>\n",
       "      <td>บ.เอสแอนด์เจ อินเตอร์เนชั่นแนล อินเดอร์ไพร 600...</td>\n",
       "      <td>รัตนาวลี อารีกุล (65)           ว\\nบ.เอสแอนด์เ...</td>\n",
       "      <td>ศรีราชา</td>\n",
       "    </tr>\n",
       "    <tr>\n",
       "      <th>1353</th>\n",
       "      <td>5 ม.11 ตำบลคูบางหลวง</td>\n",
       "      <td>NaN</td>\n",
       "      <td>NaN</td>\n",
       "      <td></td>\n",
       "      <td>TDPSL06201701278</td>\n",
       "      <td>https://dhl.fareye.co/img/2017-08-11/4/cust_15...</td>\n",
       "      <td></td>\n",
       "      <td>คุณดาวเรือง</td>\n",
       "      <td>947096619</td>\n",
       "      <td>ปทุมธานี</td>\n",
       "      <td>12140</td>\n",
       "      <td>1353</td>\n",
       "      <td>5 ม.11 ตำบลคูบางหลวง</td>\n",
       "      <td>ม:\\nNou:\\n\\nคุณดาวเรือง เจียกกระจ่าง\\n\\nบ้านเล...</td>\n",
       "      <td>ลาดหลุมแก้ว</td>\n",
       "    </tr>\n",
       "    <tr>\n",
       "      <th>10309</th>\n",
       "      <td>2 ห้อง259/1 ชั้น2 (ปัทมาคลินิค) เซ็นทรัลแอร์พอ...</td>\n",
       "      <td>ิดล ต.หายยา</td>\n",
       "      <td>NaN</td>\n",
       "      <td></td>\n",
       "      <td>TDPSE09201715809</td>\n",
       "      <td>https://dhl.fareye.co/img/2017-09-28/4/cust_15...</td>\n",
       "      <td></td>\n",
       "      <td>เพชรรัตน์</td>\n",
       "      <td>835709003</td>\n",
       "      <td>เชียงใหม่</td>\n",
       "      <td>50100</td>\n",
       "      <td>10309</td>\n",
       "      <td>2 ห้อง259/1 ชั้น2 (ปัทมาคลินิค) เซ็นทรัลแอร์พอ...</td>\n",
       "      <td>23.jacket ana\\nเพชรรัตน์ กิตตินุสรณ์\\n2 ห้อง25...</td>\n",
       "      <td>เมืองเชียงใหม่</td>\n",
       "    </tr>\n",
       "    <tr>\n",
       "      <th>10321</th>\n",
       "      <td>57 ม.4 ต.บ้านติ้ว</td>\n",
       "      <td>NaN</td>\n",
       "      <td>NaN</td>\n",
       "      <td></td>\n",
       "      <td>TDPSE09201715797</td>\n",
       "      <td>https://dhl.fareye.co/img/2017-09-28/4/cust_15...</td>\n",
       "      <td></td>\n",
       "      <td>ชุลีพร</td>\n",
       "      <td>910320092</td>\n",
       "      <td>เพชรบูรณ์</td>\n",
       "      <td>67110</td>\n",
       "      <td>10321</td>\n",
       "      <td>57 ม.4 ต.บ้านติ้ว</td>\n",
       "      <td>งา ae\\n~\\n\\nนางสาวชุลีพร ฤทธิบุญ\\n\\n57 ม.4 ตเบ...</td>\n",
       "      <td>หล่มสัก</td>\n",
       "    </tr>\n",
       "    <tr>\n",
       "      <th>1025</th>\n",
       "      <td>บ.อินทรี อีโคไซเคิล 318 ม.2 ตำบลมะขามคู่</td>\n",
       "      <td>NaN</td>\n",
       "      <td>NaN</td>\n",
       "      <td></td>\n",
       "      <td>TDPSL06201701159</td>\n",
       "      <td>https://dhl.fareye.co/img/2017-08-09/4/cust_15...</td>\n",
       "      <td></td>\n",
       "      <td>คุณวริศศรา</td>\n",
       "      <td>957408920</td>\n",
       "      <td>ระยอง</td>\n",
       "      <td>21180</td>\n",
       "      <td>1025</td>\n",
       "      <td>บ.อินทรี อีโคไซเคิล 318 ม.2 ตำบลมะขามคู่</td>\n",
       "      <td>กรุณาส่ง : คุณวริศศรา บุญโต / แผนกบัญชี-การเงิ...</td>\n",
       "      <td>นิคมพัฒนา</td>\n",
       "    </tr>\n",
       "  </tbody>\n",
       "</table>\n",
       "</div>"
      ],
      "text/plain": [
       "                                            AddressLine1 AddressLine2  \\\n",
       "1384   บ.เอสแอนด์เจ อินเตอร์เนชั่นแนล อินเดอร์ไพร 600...        องขาม   \n",
       "1353                                5 ม.11 ตำบลคูบางหลวง          NaN   \n",
       "10309  2 ห้อง259/1 ชั้น2 (ปัทมาคลินิค) เซ็นทรัลแอร์พอ...  ิดล ต.หายยา   \n",
       "10321                                  57 ม.4 ต.บ้านติ้ว          NaN   \n",
       "1025            บ.อินทรี อีโคไซเคิล 318 ม.2 ตำบลมะขามคู่          NaN   \n",
       "\n",
       "      AddressLine3 Country code CustomerConfirmationNumber  \\\n",
       "1384           NaN                        TDPSE04201708179   \n",
       "1353           NaN                        TDPSL06201701278   \n",
       "10309          NaN                        TDPSE09201715809   \n",
       "10321          NaN                        TDPSE09201715797   \n",
       "1025           NaN                        TDPSL06201701159   \n",
       "\n",
       "                                      Parcel Label Photo Recipient email  \\\n",
       "1384   https://dhl.fareye.co/img/2017-08-11/4/cust_15...                   \n",
       "1353   https://dhl.fareye.co/img/2017-08-11/4/cust_15...                   \n",
       "10309  https://dhl.fareye.co/img/2017-09-28/4/cust_15...                   \n",
       "10321  https://dhl.fareye.co/img/2017-09-28/4/cust_15...                   \n",
       "1025   https://dhl.fareye.co/img/2017-08-09/4/cust_15...                   \n",
       "\n",
       "      Recipient name Recipient phone Recipient state  Recipient zipcode  \\\n",
       "1384        รัตนาวลี       952507257          ชลบุรี              20230   \n",
       "1353     คุณดาวเรือง       947096619        ปทุมธานี              12140   \n",
       "10309      เพชรรัตน์       835709003       เชียงใหม่              50100   \n",
       "10321         ชุลีพร       910320092       เพชรบูรณ์              67110   \n",
       "1025      คุณวริศศรา       957408920           ระยอง              21180   \n",
       "\n",
       "       Unnamed: 11                                     AddressLine1.1  \\\n",
       "1384          1384  บ.เอสแอนด์เจ อินเตอร์เนชั่นแนล อินเดอร์ไพร 600...   \n",
       "1353          1353                               5 ม.11 ตำบลคูบางหลวง   \n",
       "10309        10309  2 ห้อง259/1 ชั้น2 (ปัทมาคลินิค) เซ็นทรัลแอร์พอ...   \n",
       "10321        10321                                  57 ม.4 ต.บ้านติ้ว   \n",
       "1025          1025           บ.อินทรี อีโคไซเคิล 318 ม.2 ตำบลมะขามคู่   \n",
       "\n",
       "                                                    text  อำเภอ District  \n",
       "1384   รัตนาวลี อารีกุล (65)           ว\\nบ.เอสแอนด์เ...         ศรีราชา  \n",
       "1353   ม:\\nNou:\\n\\nคุณดาวเรือง เจียกกระจ่าง\\n\\nบ้านเล...     ลาดหลุมแก้ว  \n",
       "10309  23.jacket ana\\nเพชรรัตน์ กิตตินุสรณ์\\n2 ห้อง25...  เมืองเชียงใหม่  \n",
       "10321  งา ae\\n~\\n\\nนางสาวชุลีพร ฤทธิบุญ\\n\\n57 ม.4 ตเบ...         หล่มสัก  \n",
       "1025   กรุณาส่ง : คุณวริศศรา บุญโต / แผนกบัญชี-การเงิ...       นิคมพัฒนา  "
      ]
     },
     "execution_count": 8,
     "metadata": {},
     "output_type": "execute_result"
    }
   ],
   "source": [
    "cleaned_up_raw_txt.head()"
   ]
  },
  {
   "cell_type": "code",
   "execution_count": 16,
   "metadata": {},
   "outputs": [
    {
     "name": "stdout",
     "output_type": "stream",
     "text": [
      "รัตนาวลี อารีกุล (65)           ว\n",
      "บ.เอสแอนด์เจ อินเตอร์เนชั่ลแนล อิน\n",
      "\n",
      "เตอร์ไพร์ 600/4 ม.11 ต. หนองขาม\n",
      "อ. ศรีราชา จ ชลบุรี\n",
      "\n",
      "รหัสไปรษณีย์                 20230\n"
     ]
    }
   ],
   "source": [
    "print(cleaned_up_raw_txt.loc[1384, 'text'])"
   ]
  },
  {
   "cell_type": "code",
   "execution_count": 17,
   "metadata": {},
   "outputs": [
    {
     "name": "stdout",
     "output_type": "stream",
     "text": [
      "บ.เอสแอนด์เจ อินเตอร์เนชั่นแนล อินเดอร์ไพร 600/4 ม.11 ตำบลหน\n"
     ]
    }
   ],
   "source": [
    "print(cleaned_up_raw_txt.loc[1384, 'AddressLine1'])"
   ]
  },
  {
   "cell_type": "code",
   "execution_count": 15,
   "metadata": {},
   "outputs": [
    {
     "name": "stdout",
     "output_type": "stream",
     "text": [
      "nan\n"
     ]
    }
   ],
   "source": [
    "print(cleaned_up_raw_txt.loc[1353, 'AddressLine2'])"
   ]
  },
  {
   "cell_type": "code",
   "execution_count": null,
   "metadata": {},
   "outputs": [],
   "source": []
  }
 ],
 "metadata": {
  "kernelspec": {
   "display_name": "Python 3",
   "language": "python",
   "name": "python3"
  },
  "language_info": {
   "codemirror_mode": {
    "name": "ipython",
    "version": 3
   },
   "file_extension": ".py",
   "mimetype": "text/x-python",
   "name": "python",
   "nbconvert_exporter": "python",
   "pygments_lexer": "ipython3",
   "version": "3.6.4"
  }
 },
 "nbformat": 4,
 "nbformat_minor": 2
}
