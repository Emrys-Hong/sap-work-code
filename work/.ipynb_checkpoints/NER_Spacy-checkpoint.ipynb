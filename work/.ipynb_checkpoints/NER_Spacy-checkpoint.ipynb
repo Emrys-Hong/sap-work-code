{
 "cells": [
  {
   "cell_type": "code",
   "execution_count": 1,
   "metadata": {},
   "outputs": [],
   "source": [
    "text = \"\"\"Gary Winston Lineker was an excellent football player.\n",
    "GARY WINSTON LINEKER was a striker.\n",
    "gary winston lineker was born in England.\n",
    "gARY WiNsTon lInEker is married to Danielle Bux.\n",
    "Gary W. Lineker, Kanny Sansom and Peter Shilton played together.\n",
    "The defenders:\n",
    "    Gary Stevens\n",
    "    Kenny Sansom\n",
    "    Terry Butcher\n",
    "The midfields were:\n",
    "    - Bryan Robson;\n",
    "    - Ray Wilkins;\n",
    "    - Chris Waddle.\"\"\""
   ]
  },
  {
   "cell_type": "code",
   "execution_count": 2,
   "metadata": {},
   "outputs": [
    {
     "ename": "OSError",
     "evalue": "[E050] Can't find model 'en'. It doesn't seem to be a shortcut link, a Python package or a valid path to a data directory.",
     "output_type": "error",
     "traceback": [
      "\u001b[1;31m---------------------------------------------------------------------------\u001b[0m",
      "\u001b[1;31mOSError\u001b[0m                                   Traceback (most recent call last)",
      "\u001b[1;32m<ipython-input-2-c4b41175ec25>\u001b[0m in \u001b[0;36m<module>\u001b[1;34m()\u001b[0m\n\u001b[0;32m      1\u001b[0m \u001b[1;32mimport\u001b[0m \u001b[0mspacy\u001b[0m\u001b[1;33m\u001b[0m\u001b[0m\n\u001b[1;32m----> 2\u001b[1;33m \u001b[0mnlp\u001b[0m \u001b[1;33m=\u001b[0m \u001b[0mspacy\u001b[0m\u001b[1;33m.\u001b[0m\u001b[0mload\u001b[0m\u001b[1;33m(\u001b[0m\u001b[1;34m'en'\u001b[0m\u001b[1;33m)\u001b[0m\u001b[1;33m\u001b[0m\u001b[0m\n\u001b[0m",
      "\u001b[1;32m~\\AppData\\Local\\Continuum\\anaconda3\\lib\\site-packages\\spacy\\__init__.py\u001b[0m in \u001b[0;36mload\u001b[1;34m(name, **overrides)\u001b[0m\n\u001b[0;32m     13\u001b[0m     \u001b[1;32mif\u001b[0m \u001b[0mdepr_path\u001b[0m \u001b[1;32mnot\u001b[0m \u001b[1;32min\u001b[0m \u001b[1;33m(\u001b[0m\u001b[1;32mTrue\u001b[0m\u001b[1;33m,\u001b[0m \u001b[1;32mFalse\u001b[0m\u001b[1;33m,\u001b[0m \u001b[1;32mNone\u001b[0m\u001b[1;33m)\u001b[0m\u001b[1;33m:\u001b[0m\u001b[1;33m\u001b[0m\u001b[0m\n\u001b[0;32m     14\u001b[0m         \u001b[0mdeprecation_warning\u001b[0m\u001b[1;33m(\u001b[0m\u001b[0mWarnings\u001b[0m\u001b[1;33m.\u001b[0m\u001b[0mW001\u001b[0m\u001b[1;33m.\u001b[0m\u001b[0mformat\u001b[0m\u001b[1;33m(\u001b[0m\u001b[0mpath\u001b[0m\u001b[1;33m=\u001b[0m\u001b[0mdepr_path\u001b[0m\u001b[1;33m)\u001b[0m\u001b[1;33m)\u001b[0m\u001b[1;33m\u001b[0m\u001b[0m\n\u001b[1;32m---> 15\u001b[1;33m     \u001b[1;32mreturn\u001b[0m \u001b[0mutil\u001b[0m\u001b[1;33m.\u001b[0m\u001b[0mload_model\u001b[0m\u001b[1;33m(\u001b[0m\u001b[0mname\u001b[0m\u001b[1;33m,\u001b[0m \u001b[1;33m**\u001b[0m\u001b[0moverrides\u001b[0m\u001b[1;33m)\u001b[0m\u001b[1;33m\u001b[0m\u001b[0m\n\u001b[0m\u001b[0;32m     16\u001b[0m \u001b[1;33m\u001b[0m\u001b[0m\n\u001b[0;32m     17\u001b[0m \u001b[1;33m\u001b[0m\u001b[0m\n",
      "\u001b[1;32m~\\AppData\\Local\\Continuum\\anaconda3\\lib\\site-packages\\spacy\\util.py\u001b[0m in \u001b[0;36mload_model\u001b[1;34m(name, **overrides)\u001b[0m\n\u001b[0;32m    117\u001b[0m     \u001b[1;32melif\u001b[0m \u001b[0mhasattr\u001b[0m\u001b[1;33m(\u001b[0m\u001b[0mname\u001b[0m\u001b[1;33m,\u001b[0m \u001b[1;34m'exists'\u001b[0m\u001b[1;33m)\u001b[0m\u001b[1;33m:\u001b[0m  \u001b[1;31m# Path or Path-like to model data\u001b[0m\u001b[1;33m\u001b[0m\u001b[0m\n\u001b[0;32m    118\u001b[0m         \u001b[1;32mreturn\u001b[0m \u001b[0mload_model_from_path\u001b[0m\u001b[1;33m(\u001b[0m\u001b[0mname\u001b[0m\u001b[1;33m,\u001b[0m \u001b[1;33m**\u001b[0m\u001b[0moverrides\u001b[0m\u001b[1;33m)\u001b[0m\u001b[1;33m\u001b[0m\u001b[0m\n\u001b[1;32m--> 119\u001b[1;33m     \u001b[1;32mraise\u001b[0m \u001b[0mIOError\u001b[0m\u001b[1;33m(\u001b[0m\u001b[0mErrors\u001b[0m\u001b[1;33m.\u001b[0m\u001b[0mE050\u001b[0m\u001b[1;33m.\u001b[0m\u001b[0mformat\u001b[0m\u001b[1;33m(\u001b[0m\u001b[0mname\u001b[0m\u001b[1;33m=\u001b[0m\u001b[0mname\u001b[0m\u001b[1;33m)\u001b[0m\u001b[1;33m)\u001b[0m\u001b[1;33m\u001b[0m\u001b[0m\n\u001b[0m\u001b[0;32m    120\u001b[0m \u001b[1;33m\u001b[0m\u001b[0m\n\u001b[0;32m    121\u001b[0m \u001b[1;33m\u001b[0m\u001b[0m\n",
      "\u001b[1;31mOSError\u001b[0m: [E050] Can't find model 'en'. It doesn't seem to be a shortcut link, a Python package or a valid path to a data directory."
     ]
    }
   ],
   "source": [
    "import spacy \n",
    "nlp = spacy.load('en')"
   ]
  },
  {
   "cell_type": "code",
   "execution_count": 3,
   "metadata": {
    "collapsed": true
   },
   "outputs": [],
   "source": [
    "nlp_big = spacy.load('en_core_web_md')"
   ]
  },
  {
   "cell_type": "code",
   "execution_count": 4,
   "metadata": {
    "collapsed": true
   },
   "outputs": [],
   "source": [
    "document = nlp(text)\n",
    "document_big = nlp_big(text)"
   ]
  },
  {
   "cell_type": "code",
   "execution_count": 5,
   "metadata": {},
   "outputs": [
    {
     "data": {
      "text/plain": [
       "[Gary Winston Lineker was an excellent football player.,\n",
       " GARY WINSTON LINEKER was a striker.,\n",
       " gary winston lineker was born in England.,\n",
       " gARY WiNsTon lInEker is married to Danielle Bux.,\n",
       " Gary W. Lineker, Kanny Sansom and Peter Shilton played together.,\n",
       " The defenders:\n",
       "     Gary Stevens\n",
       "     Kenny Sansom\n",
       "     Terry Butcher\n",
       " The midfields were:\n",
       "     - Bryan Robson;\n",
       "     - Ray Wilkins;\n",
       "     - Chris Waddle.]"
      ]
     },
     "execution_count": 5,
     "metadata": {},
     "output_type": "execute_result"
    }
   ],
   "source": [
    "list(document.sents)"
   ]
  },
  {
   "cell_type": "code",
   "execution_count": 6,
   "metadata": {},
   "outputs": [
    {
     "name": "stdout",
     "output_type": "stream",
     "text": [
      "['Gary Winston Lineker ', 'WINSTON LINEKER ', 'Danielle Bux', 'Gary W. Lineker', 'Kanny Sansom ', 'Peter Shilton ', 'Gary Stevens', 'Kenny Sansom', 'Terry Butcher']\n"
     ]
    }
   ],
   "source": [
    "entities = [e.string for e in document.ents if 'PERSON'==e.label_] \n",
    "entities = list(entities) \n",
    "print (entities)"
   ]
  },
  {
   "cell_type": "code",
   "execution_count": 7,
   "metadata": {},
   "outputs": [
    {
     "name": "stdout",
     "output_type": "stream",
     "text": [
      "['Gary Winston Lineker ', 'Danielle Bux', 'Gary W. Lineker', 'Kanny Sansom ', 'Peter Shilton ', 'Gary Stevens', 'Kenny Sansom', 'Terry Butcher', 'Ray Wilkins']\n"
     ]
    }
   ],
   "source": [
    "entities_big = [e.string for e in document_big.ents if 'PERSON'==e.label_] \n",
    "entities_big = list(entities_big) \n",
    "print (entities_big)"
   ]
  },
  {
   "cell_type": "markdown",
   "metadata": {},
   "source": [
    "|Entities on text|Recognised by <br>'en_core_web_sm' (50MB)|Recognised by <br>'en_core_web_md' (1GB)|\n",
    "|---------|---------------|----------------|\n",
    "|Gary Winston Lineker|Gary Winston Lineker |Gary Winston Lineker |\n",
    "|GARY WINSTON LINEKER|WINSTON LINEKER | |\n",
    "|gary winston lineker| | |\n",
    "|gARY WiNsTon lInEker| | |\n",
    "|Danielle Bux|Danielle Bux |Danielle Bux |\n",
    "|Gary Lineker|Gary Lineker |Gary Lineker |\n",
    "|Kanny Sansom|Kanny Sansom |Kanny Sansom |\n",
    "|Peter Shilton|Peter Shilton |Peter Shilton |\n",
    "|Gary Stevens|Gary Stevens |Gary Stevens |\n",
    "|Kenny Sansom|Kenny Sansom |Kenny Sansom |\n",
    "|Terry Butcher|Terry Butcher |Terry Butcher |\n",
    "|Bryan Robson| | |\n",
    "|Ray Wilkins| |Ray Wilkins |\n",
    "|Chris Waddle| | |"
   ]
  },
  {
   "cell_type": "markdown",
   "metadata": {},
   "source": [
    "### Conclusion\n",
    "The Spacy's named entity recognition classifiers for the English language can be used to perform NER. However, this feature shall be implemente with care. Particular characteristiques of the corpus have to be assessed prior to releasing such a functionality on production environment. For instance, the pattern of the typing of names, the characters used as list bullets and some other characteristiques to be assessed during development and test time."
   ]
  }
 ],
 "metadata": {
  "kernelspec": {
   "display_name": "Python 3",
   "language": "python",
   "name": "python3"
  },
  "language_info": {
   "codemirror_mode": {
    "name": "ipython",
    "version": 3
   },
   "file_extension": ".py",
   "mimetype": "text/x-python",
   "name": "python",
   "nbconvert_exporter": "python",
   "pygments_lexer": "ipython3",
   "version": "3.6.4"
  }
 },
 "nbformat": 4,
 "nbformat_minor": 2
}
