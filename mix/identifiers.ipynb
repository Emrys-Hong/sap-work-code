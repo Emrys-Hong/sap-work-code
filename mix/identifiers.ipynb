{
 "cells": [
  {
   "cell_type": "code",
   "execution_count": 1,
   "metadata": {},
   "outputs": [],
   "source": [
    "import pandas as pd"
   ]
  },
  {
   "cell_type": "code",
   "execution_count": 4,
   "metadata": {},
   "outputs": [],
   "source": [
    "raw_txt = pd.read_excel('raw_txt.xls')"
   ]
  },
  {
   "cell_type": "code",
   "execution_count": 8,
   "metadata": {},
   "outputs": [],
   "source": [
    "txts = raw_txt.loc[:,'text']"
   ]
  },
  {
   "cell_type": "code",
   "execution_count": 30,
   "metadata": {},
   "outputs": [
    {
     "name": "stdout",
     "output_type": "stream",
     "text": [
      "64\n",
      "41\n",
      "5\n",
      "37\n",
      "75\n",
      "19\n"
     ]
    }
   ],
   "source": [
    "name_count = 0\n",
    "tel_count = 0\n",
    "place_count = 0\n",
    "postcode_count = 0\n",
    "province_count = 0\n",
    "room_count = 0\n",
    "names = ['น้อง','พี่','คุณ','นาย','นาง','นางสาว','คุณหนู','คุณหญิง']\n",
    "tels = ['โทร','เบอร์']\n",
    "places = ['เพลส',]\n",
    "postcode = ['รหัสไปรษณีย์']\n",
    "province = ['จ.']\n",
    "room = 'ห้อง'\n",
    "for txt in txts:\n",
    "    \n",
    "    check = False\n",
    "    for word in names:\n",
    "        if word in str(txt):\n",
    "            check = True\n",
    "    if check == True:\n",
    "        name_count += 1\n",
    "        \n",
    "    check = False\n",
    "    for word in tels:\n",
    "        if word in str(txt):\n",
    "            check = True\n",
    "    if check == True:\n",
    "        tel_count += 1\n",
    "        \n",
    "    check = False\n",
    "    for word in places:\n",
    "        if word in str(txt):\n",
    "            check = True\n",
    "    if check == True:\n",
    "        place_count += 1\n",
    "        \n",
    "    check = False\n",
    "    for word in postcode:\n",
    "        if word in str(txt):\n",
    "            check = True\n",
    "    if check == True:\n",
    "        postcode_count += 1\n",
    "        \n",
    "    check = False\n",
    "    for word in province:\n",
    "        if word in str(txt):\n",
    "            check = True\n",
    "    if check == True:\n",
    "        province_count += 1\n",
    "        \n",
    "    check = False\n",
    "    if room in str(txt):\n",
    "        room_count += 1\n",
    "    \n",
    "print(name_count)\n",
    "print(tel_count)\n",
    "print(place_count)\n",
    "print(postcode_count)\n",
    "print(province_count)\n",
    "print(room_count)"
   ]
  },
  {
   "cell_type": "code",
   "execution_count": null,
   "metadata": {},
   "outputs": [],
   "source": [
    "# have gone through the first 4 txt"
   ]
  }
 ],
 "metadata": {
  "kernelspec": {
   "display_name": "Python 3",
   "language": "python",
   "name": "python3"
  },
  "language_info": {
   "codemirror_mode": {
    "name": "ipython",
    "version": 3
   },
   "file_extension": ".py",
   "mimetype": "text/x-python",
   "name": "python",
   "nbconvert_exporter": "python",
   "pygments_lexer": "ipython3",
   "version": "3.6.4"
  }
 },
 "nbformat": 4,
 "nbformat_minor": 2
}
