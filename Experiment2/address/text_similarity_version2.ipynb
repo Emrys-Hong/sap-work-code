{
 "cells": [
  {
   "cell_type": "code",
   "execution_count": 4,
   "metadata": {},
   "outputs": [],
   "source": [
    "import numpy as np\n",
    "import pandas as pd\n",
    "from collections import defaultdict\n",
    "import re\n",
    "from collections import Counter\n",
    "from fuzzywuzzy import fuzz"
   ]
  },
  {
   "cell_type": "code",
   "execution_count": 5,
   "metadata": {},
   "outputs": [
    {
     "data": {
      "text/html": [
       "<div>\n",
       "<style scoped>\n",
       "    .dataframe tbody tr th:only-of-type {\n",
       "        vertical-align: middle;\n",
       "    }\n",
       "\n",
       "    .dataframe tbody tr th {\n",
       "        vertical-align: top;\n",
       "    }\n",
       "\n",
       "    .dataframe thead th {\n",
       "        text-align: right;\n",
       "    }\n",
       "</style>\n",
       "<table border=\"1\" class=\"dataframe\">\n",
       "  <thead>\n",
       "    <tr style=\"text-align: right;\">\n",
       "      <th></th>\n",
       "      <th>Province</th>\n",
       "      <th>District</th>\n",
       "      <th>Postcode</th>\n",
       "    </tr>\n",
       "  </thead>\n",
       "  <tbody>\n",
       "    <tr>\n",
       "      <th>0</th>\n",
       "      <td>Amnat Charoen</td>\n",
       "      <td>Mueang Amnat Charoen</td>\n",
       "      <td>37000</td>\n",
       "    </tr>\n",
       "    <tr>\n",
       "      <th>1</th>\n",
       "      <td>NaN</td>\n",
       "      <td>Chanunman</td>\n",
       "      <td>37210</td>\n",
       "    </tr>\n",
       "    <tr>\n",
       "      <th>2</th>\n",
       "      <td>NaN</td>\n",
       "      <td>Hua Taphan</td>\n",
       "      <td>37240</td>\n",
       "    </tr>\n",
       "    <tr>\n",
       "      <th>3</th>\n",
       "      <td>NaN</td>\n",
       "      <td>Lua Amnart</td>\n",
       "      <td>37000</td>\n",
       "    </tr>\n",
       "    <tr>\n",
       "      <th>4</th>\n",
       "      <td>NaN</td>\n",
       "      <td>Phana</td>\n",
       "      <td>37180</td>\n",
       "    </tr>\n",
       "    <tr>\n",
       "      <th>5</th>\n",
       "      <td>NaN</td>\n",
       "      <td>Senangkhanikhorn</td>\n",
       "      <td>37290</td>\n",
       "    </tr>\n",
       "    <tr>\n",
       "      <th>6</th>\n",
       "      <td>NaN</td>\n",
       "      <td>Phathumratvongsa</td>\n",
       "      <td>37110</td>\n",
       "    </tr>\n",
       "    <tr>\n",
       "      <th>7</th>\n",
       "      <td>Province</td>\n",
       "      <td>District</td>\n",
       "      <td>Postcode</td>\n",
       "    </tr>\n",
       "  </tbody>\n",
       "</table>\n",
       "</div>"
      ],
      "text/plain": [
       "        Province              District  Postcode\n",
       "0  Amnat Charoen  Mueang Amnat Charoen     37000\n",
       "1            NaN             Chanunman     37210\n",
       "2            NaN            Hua Taphan     37240\n",
       "3            NaN            Lua Amnart     37000\n",
       "4            NaN                 Phana     37180\n",
       "5            NaN      Senangkhanikhorn     37290\n",
       "6            NaN      Phathumratvongsa     37110\n",
       "7       Province              District  Postcode"
      ]
     },
     "execution_count": 5,
     "metadata": {},
     "output_type": "execute_result"
    }
   ],
   "source": [
    "thailand = pd.read_excel('thailand_map.xlsx')\n",
    "thailand.head(8)"
   ]
  },
  {
   "cell_type": "code",
   "execution_count": 6,
   "metadata": {},
   "outputs": [
    {
     "data": {
      "text/html": [
       "<div>\n",
       "<style scoped>\n",
       "    .dataframe tbody tr th:only-of-type {\n",
       "        vertical-align: middle;\n",
       "    }\n",
       "\n",
       "    .dataframe tbody tr th {\n",
       "        vertical-align: top;\n",
       "    }\n",
       "\n",
       "    .dataframe thead th {\n",
       "        text-align: right;\n",
       "    }\n",
       "</style>\n",
       "<table border=\"1\" class=\"dataframe\">\n",
       "  <thead>\n",
       "    <tr style=\"text-align: right;\">\n",
       "      <th></th>\n",
       "      <th>Province (changwat)</th>\n",
       "      <th>จังหวัด</th>\n",
       "    </tr>\n",
       "  </thead>\n",
       "  <tbody>\n",
       "    <tr>\n",
       "      <th>0</th>\n",
       "      <td>Krabi</td>\n",
       "      <td>กระบี่</td>\n",
       "    </tr>\n",
       "    <tr>\n",
       "      <th>1</th>\n",
       "      <td>Krabi</td>\n",
       "      <td>กระบี่</td>\n",
       "    </tr>\n",
       "    <tr>\n",
       "      <th>2</th>\n",
       "      <td>Krabi</td>\n",
       "      <td>กระบี่</td>\n",
       "    </tr>\n",
       "    <tr>\n",
       "      <th>3</th>\n",
       "      <td>Krabi</td>\n",
       "      <td>กระบี่</td>\n",
       "    </tr>\n",
       "    <tr>\n",
       "      <th>4</th>\n",
       "      <td>Krabi</td>\n",
       "      <td>กระบี่</td>\n",
       "    </tr>\n",
       "  </tbody>\n",
       "</table>\n",
       "</div>"
      ],
      "text/plain": [
       "  Province (changwat) จังหวัด\n",
       "0               Krabi  กระบี่\n",
       "1               Krabi  กระบี่\n",
       "2               Krabi  กระบี่\n",
       "3               Krabi  กระบี่\n",
       "4               Krabi  กระบี่"
      ]
     },
     "execution_count": 6,
     "metadata": {},
     "output_type": "execute_result"
    }
   ],
   "source": [
    "eng_thai_province = pd.read_excel('eng_thai_province.xlsx')\n",
    "eng_thai_province.head()"
   ]
  },
  {
   "cell_type": "code",
   "execution_count": 7,
   "metadata": {},
   "outputs": [],
   "source": [
    "eng_thai_dict = {}\n",
    "for index in eng_thai_province.index:\n",
    "    eng_thai_dict[eng_thai_province.loc[index, 'Province (changwat)']] = eng_thai_province.loc[index, 'จังหวัด']\n",
    "eng_thai_dict['Bangkok'] = 'กรุงเทพมหานคร'\n",
    "eng_thai_dict['Nongbua Lamphu'] = 'หนองบัวลำภู'\n",
    "eng_thai_dict['Phangnga'] = 'พังงา'\n",
    "eng_thai_dict['Prachinburi'] = 'ปราจีนบุรี'\n",
    "eng_thai_dict['Si Saket'] = 'ศรีสะเกษ'\n",
    "eng_thai_dict['Singburi'] = 'สิงห์บุรี'\n",
    "eng_thai_dict['Suphanburi'] = 'สุพรรณบุรี'"
   ]
  },
  {
   "cell_type": "code",
   "execution_count": 8,
   "metadata": {},
   "outputs": [],
   "source": [
    "import math\n",
    "df = pd.DataFrame()\n",
    "province = 'Amnat Charoen'\n",
    "count = 0\n",
    "for index in thailand.index:\n",
    "    df1_dict = thailand.loc[index, 'Province':'Postcode'].to_dict()\n",
    "    \n",
    "    if str(df1_dict['Province']) == 'nan':\n",
    "        df1_dict['province_in_thai'] = eng_thai_dict[province]\n",
    "        df1_dict['Province'] = province\n",
    "        if not math.isnan(df1_dict['Postcode']):\n",
    "            df1 = pd.DataFrame(df1_dict, index=[str(df1_dict['Postcode'])] )\n",
    "            df = pd.concat([df1,df])\n",
    "            count += 1\n",
    "    elif str(df1_dict['Province']) == 'Province':\n",
    "        pass\n",
    "    else:\n",
    "        province = df1_dict['Province']\n",
    "        df1_dict['province_in_thai'] = eng_thai_dict[province]\n",
    "        if not math.isnan(df1_dict['Postcode']):\n",
    "            df1 = pd.DataFrame(df1_dict, index=[ str(df1_dict['Postcode']) ] )\n",
    "            df = pd.concat([df1, df])\n",
    "        \n",
    "        count += 1\n"
   ]
  },
  {
   "cell_type": "code",
   "execution_count": 9,
   "metadata": {},
   "outputs": [],
   "source": [
    "df.to_excel('thailand_map.xls')"
   ]
  },
  {
   "cell_type": "code",
   "execution_count": 10,
   "metadata": {},
   "outputs": [
    {
     "data": {
      "text/html": [
       "<div>\n",
       "<style scoped>\n",
       "    .dataframe tbody tr th:only-of-type {\n",
       "        vertical-align: middle;\n",
       "    }\n",
       "\n",
       "    .dataframe tbody tr th {\n",
       "        vertical-align: top;\n",
       "    }\n",
       "\n",
       "    .dataframe thead th {\n",
       "        text-align: right;\n",
       "    }\n",
       "</style>\n",
       "<table border=\"1\" class=\"dataframe\">\n",
       "  <thead>\n",
       "    <tr style=\"text-align: right;\">\n",
       "      <th></th>\n",
       "      <th>District</th>\n",
       "      <th>Postcode</th>\n",
       "      <th>Province</th>\n",
       "      <th>province_in_thai</th>\n",
       "    </tr>\n",
       "  </thead>\n",
       "  <tbody>\n",
       "    <tr>\n",
       "      <th>35120</th>\n",
       "      <td>Thai Charoen</td>\n",
       "      <td>35120</td>\n",
       "      <td>Yasothon</td>\n",
       "      <td>ยโสธร</td>\n",
       "    </tr>\n",
       "    <tr>\n",
       "      <th>35170</th>\n",
       "      <td>Sai Mun</td>\n",
       "      <td>35170</td>\n",
       "      <td>Yasothon</td>\n",
       "      <td>ยโสธร</td>\n",
       "    </tr>\n",
       "    <tr>\n",
       "      <th>35150</th>\n",
       "      <td>Pa Tio</td>\n",
       "      <td>35150</td>\n",
       "      <td>Yasothon</td>\n",
       "      <td>ยโสธร</td>\n",
       "    </tr>\n",
       "    <tr>\n",
       "      <th>35130</th>\n",
       "      <td>Maha Chana Chai</td>\n",
       "      <td>35130</td>\n",
       "      <td>Yasothon</td>\n",
       "      <td>ยโสธร</td>\n",
       "    </tr>\n",
       "    <tr>\n",
       "      <th>35120</th>\n",
       "      <td>Loeng Nok Tha</td>\n",
       "      <td>35120</td>\n",
       "      <td>Yasothon</td>\n",
       "      <td>ยโสธร</td>\n",
       "    </tr>\n",
       "  </tbody>\n",
       "</table>\n",
       "</div>"
      ],
      "text/plain": [
       "              District  Postcode  Province province_in_thai\n",
       "35120     Thai Charoen     35120  Yasothon            ยโสธร\n",
       "35170          Sai Mun     35170  Yasothon            ยโสธร\n",
       "35150           Pa Tio     35150  Yasothon            ยโสธร\n",
       "35130  Maha Chana Chai     35130  Yasothon            ยโสธร\n",
       "35120    Loeng Nok Tha     35120  Yasothon            ยโสธร"
      ]
     },
     "execution_count": 10,
     "metadata": {},
     "output_type": "execute_result"
    }
   ],
   "source": [
    "df.head()"
   ]
  },
  {
   "cell_type": "code",
   "execution_count": 11,
   "metadata": {},
   "outputs": [
    {
     "data": {
      "text/html": [
       "<div>\n",
       "<style scoped>\n",
       "    .dataframe tbody tr th:only-of-type {\n",
       "        vertical-align: middle;\n",
       "    }\n",
       "\n",
       "    .dataframe tbody tr th {\n",
       "        vertical-align: top;\n",
       "    }\n",
       "\n",
       "    .dataframe thead th {\n",
       "        text-align: right;\n",
       "    }\n",
       "</style>\n",
       "<table border=\"1\" class=\"dataframe\">\n",
       "  <thead>\n",
       "    <tr style=\"text-align: right;\">\n",
       "      <th></th>\n",
       "      <th>AddressLine1</th>\n",
       "      <th>AddressLine2</th>\n",
       "      <th>AddressLine3</th>\n",
       "      <th>CustomerConfirmationNumber</th>\n",
       "      <th>Recipient email</th>\n",
       "      <th>Recipient name</th>\n",
       "      <th>Recipient phone</th>\n",
       "      <th>Recipient state</th>\n",
       "      <th>Recipient zipcode</th>\n",
       "      <th>text</th>\n",
       "      <th>อำเภอ District</th>\n",
       "    </tr>\n",
       "  </thead>\n",
       "  <tbody>\n",
       "    <tr>\n",
       "      <th>10309</th>\n",
       "      <td>2 ห้อง259/1 ชั้น2 (ปัทมาคลินิค) เซ็นทรัลแอร์พอ...</td>\n",
       "      <td>ิดล ต.หายยา</td>\n",
       "      <td>NaN</td>\n",
       "      <td>TDPSE09201715809</td>\n",
       "      <td></td>\n",
       "      <td>เพชรรัตน์</td>\n",
       "      <td>835709003</td>\n",
       "      <td>เชียงใหม่</td>\n",
       "      <td>50100</td>\n",
       "      <td>เพชรรัตน์ กิตตินุสรณ์\\n2 fins250/1 ul (บัทมาคล...</td>\n",
       "      <td>เมืองเชียงใหม่</td>\n",
       "    </tr>\n",
       "    <tr>\n",
       "      <th>162</th>\n",
       "      <td>54 ปากซอยอ่อนนุช สุขุมวิท 77 แขวงพระโขนงเหนือ ...</td>\n",
       "      <td>NaN</td>\n",
       "      <td>NaN</td>\n",
       "      <td>TDPSL06201700953</td>\n",
       "      <td></td>\n",
       "      <td>กิตติโฟโต้</td>\n",
       "      <td>23110797</td>\n",
       "      <td>กรุงเทพ</td>\n",
       "      <td>10260</td>\n",
       "      <td>NAN             3\\nAN...                      ...</td>\n",
       "      <td>วัฒนา</td>\n",
       "    </tr>\n",
       "    <tr>\n",
       "      <th>1384</th>\n",
       "      <td>บ.เอสแอนด์เจ อินเตอร์เนชั่นแนล อินเดอร์ไพร 600...</td>\n",
       "      <td>องขาม</td>\n",
       "      <td>NaN</td>\n",
       "      <td>TDPSE04201708179</td>\n",
       "      <td></td>\n",
       "      <td>รัตนาวลี</td>\n",
       "      <td>952507257</td>\n",
       "      <td>ชลบุรี</td>\n",
       "      <td>20230</td>\n",
       "      <td>วรลลลลล์\\nก | Tel. 3\\n\\nรัตนาวลี อารีกุล (65)\\...</td>\n",
       "      <td>ศรีราชา</td>\n",
       "    </tr>\n",
       "    <tr>\n",
       "      <th>1031</th>\n",
       "      <td>93/119 ซอยจรัญสนิทวงศ์ 25 แขวงบางขุนศรี</td>\n",
       "      <td>NaN</td>\n",
       "      <td>NaN</td>\n",
       "      <td>TDPSE04201708540</td>\n",
       "      <td></td>\n",
       "      <td>กัลยรัตน์ นิยมจ้อย</td>\n",
       "      <td>909769895</td>\n",
       "      <td>กรุงเทพ</td>\n",
       "      <td>10700</td>\n",
       "      <td>คุณกัลยรัตน์ นิยมจ้อย\\n\\n93/119 ซ.จรัญสนิทวงศ์...</td>\n",
       "      <td>บางกอกน้อย</td>\n",
       "    </tr>\n",
       "    <tr>\n",
       "      <th>10255</th>\n",
       "      <td>609/223 มบ.เดอะคอร์นเนอร์ ม.7 ต.ท่าตูม</td>\n",
       "      <td>NaN</td>\n",
       "      <td>NaN</td>\n",
       "      <td>TDPSE09201714969</td>\n",
       "      <td></td>\n",
       "      <td>กัลยาณี</td>\n",
       "      <td>872561391</td>\n",
       "      <td>ปราจีนบุรี</td>\n",
       "      <td>25140</td>\n",
       "      <td>“21:\\nคุณกัดยาณี รุมพล\\n\\n609/223 ภูบ้านเดอะคอ...</td>\n",
       "      <td>ศรีมหาโพธิ</td>\n",
       "    </tr>\n",
       "  </tbody>\n",
       "</table>\n",
       "</div>"
      ],
      "text/plain": [
       "                                            AddressLine1 AddressLine2  \\\n",
       "10309  2 ห้อง259/1 ชั้น2 (ปัทมาคลินิค) เซ็นทรัลแอร์พอ...  ิดล ต.หายยา   \n",
       "162    54 ปากซอยอ่อนนุช สุขุมวิท 77 แขวงพระโขนงเหนือ ...          NaN   \n",
       "1384   บ.เอสแอนด์เจ อินเตอร์เนชั่นแนล อินเดอร์ไพร 600...        องขาม   \n",
       "1031             93/119 ซอยจรัญสนิทวงศ์ 25 แขวงบางขุนศรี          NaN   \n",
       "10255             609/223 มบ.เดอะคอร์นเนอร์ ม.7 ต.ท่าตูม          NaN   \n",
       "\n",
       "      AddressLine3 CustomerConfirmationNumber Recipient email  \\\n",
       "10309          NaN           TDPSE09201715809                   \n",
       "162            NaN           TDPSL06201700953                   \n",
       "1384           NaN           TDPSE04201708179                   \n",
       "1031           NaN           TDPSE04201708540                   \n",
       "10255          NaN           TDPSE09201714969                   \n",
       "\n",
       "           Recipient name Recipient phone Recipient state  Recipient zipcode  \\\n",
       "10309           เพชรรัตน์       835709003       เชียงใหม่              50100   \n",
       "162            กิตติโฟโต้        23110797         กรุงเทพ              10260   \n",
       "1384             รัตนาวลี       952507257          ชลบุรี              20230   \n",
       "1031   กัลยรัตน์ นิยมจ้อย       909769895         กรุงเทพ              10700   \n",
       "10255             กัลยาณี       872561391      ปราจีนบุรี              25140   \n",
       "\n",
       "                                                    text  อำเภอ District  \n",
       "10309  เพชรรัตน์ กิตตินุสรณ์\\n2 fins250/1 ul (บัทมาคล...  เมืองเชียงใหม่  \n",
       "162    NAN             3\\nAN...                      ...           วัฒนา  \n",
       "1384   วรลลลลล์\\nก | Tel. 3\\n\\nรัตนาวลี อารีกุล (65)\\...         ศรีราชา  \n",
       "1031   คุณกัลยรัตน์ นิยมจ้อย\\n\\n93/119 ซ.จรัญสนิทวงศ์...      บางกอกน้อย  \n",
       "10255  “21:\\nคุณกัดยาณี รุมพล\\n\\n609/223 ภูบ้านเดอะคอ...      ศรีมหาโพธิ  "
      ]
     },
     "execution_count": 11,
     "metadata": {},
     "output_type": "execute_result"
    }
   ],
   "source": [
    "raw_txt = pd.read_excel('cleaned_up_raw_txt.xls')\n",
    "raw_txt.head()"
   ]
  },
  {
   "cell_type": "code",
   "execution_count": 12,
   "metadata": {},
   "outputs": [
    {
     "data": {
      "text/plain": [
       "77"
      ]
     },
     "execution_count": 12,
     "metadata": {},
     "output_type": "execute_result"
    }
   ],
   "source": [
    "# # # created a dataset that use postcode as index\n",
    "thai_province_list = set(df.loc[:,'province_in_thai'])\n",
    "len(thai_province_list) ## it have 77 province"
   ]
  },
  {
   "cell_type": "code",
   "execution_count": 13,
   "metadata": {},
   "outputs": [],
   "source": [
    "post2pro = {}\n",
    "for index in df.index:\n",
    "    try:\n",
    "        post2pro[str(df.at[str(index), 'Postcode'][0])[:2]] = df.at[str(index), 'province_in_thai'][0]\n",
    "    except Exception:\n",
    "        post2pro[str(df.at[str(index), 'Postcode'])[:2]] = df.at[str(index), 'province_in_thai']"
   ]
  },
  {
   "cell_type": "code",
   "execution_count": 14,
   "metadata": {},
   "outputs": [
    {
     "data": {
      "text/plain": [
       "{'10': 'กรุงเทพมหานคร',\n",
       " '11': 'นนทบุรี',\n",
       " '12': 'ปทุมธานี',\n",
       " '13': 'พระนครศรีอยุธยา',\n",
       " '14': 'อ่างทอง',\n",
       " '15': 'ลพบุรี',\n",
       " '16': 'สิงห์บุรี',\n",
       " '17': 'ชัยนาท',\n",
       " '18': 'สระบุรี',\n",
       " '20': 'ชลบุรี',\n",
       " '21': 'ระยอง',\n",
       " '22': 'จันทบุรี',\n",
       " '23': 'ตราด',\n",
       " '24': 'ฉะเชิงเทรา',\n",
       " '25': 'ปราจีนบุรี',\n",
       " '26': 'นครนายก',\n",
       " '27': 'สระแก้ว',\n",
       " '30': 'นครราชสีมา',\n",
       " '31': 'บุรีรัมย์',\n",
       " '32': 'สุรินทร์',\n",
       " '33': 'ศรีสะเกษ',\n",
       " '34': 'อุบลราชธานี',\n",
       " '35': 'ยโสธร',\n",
       " '36': 'ชัยภูมิ',\n",
       " '37': 'อำนาจเจริญ',\n",
       " '38': 'บึงกาฬ',\n",
       " '39': 'หนองบัวลำภู',\n",
       " '40': 'ขอนแก่น',\n",
       " '41': 'อุดรธานี',\n",
       " '42': 'เลย',\n",
       " '43': 'บึงกาฬ',\n",
       " '44': 'มหาสารคาม',\n",
       " '45': 'ร้อยเอ็ด',\n",
       " '46': 'กาฬสินธุ์',\n",
       " '47': 'สกลนคร',\n",
       " '48': 'นครพนม',\n",
       " '49': 'มุกดาหาร',\n",
       " '50': 'เชียงใหม่',\n",
       " '51': 'ลำพูน',\n",
       " '52': 'ลำปาง',\n",
       " '53': 'อุตรดิตถ์',\n",
       " '54': 'แพร่',\n",
       " '55': 'น่าน',\n",
       " '56': 'พะเยา',\n",
       " '57': 'เชียงราย',\n",
       " '58': 'แม่ฮ่องสอน',\n",
       " '60': 'นครสวรรค์',\n",
       " '61': 'อุทัยธานี',\n",
       " '62': 'กำแพงเพชร',\n",
       " '63': 'ตาก',\n",
       " '64': 'สุโขทัย',\n",
       " '65': 'พิษณุโลก',\n",
       " '66': 'พิจิตร',\n",
       " '67': 'เพชรบูรณ์',\n",
       " '70': 'ราชบุรี',\n",
       " '71': 'กาญจนบุรี',\n",
       " '72': 'สุพรรณบุรี',\n",
       " '73': 'นครปฐม',\n",
       " '74': 'สมุทรสาคร',\n",
       " '75': 'สมุทรสงคราม',\n",
       " '76': 'เพชรบุรี',\n",
       " '77': 'ประจวบคีรีขันธ์',\n",
       " '80': 'นครศรีธรรมราช',\n",
       " '81': 'กระบี่',\n",
       " '82': 'พังงา',\n",
       " '83': 'ภูเก็ต',\n",
       " '84': 'สุราษฎร์ธานี',\n",
       " '85': 'ระนอง',\n",
       " '86': 'ชุมพร',\n",
       " '90': 'สงขลา',\n",
       " '91': 'สตูล',\n",
       " '92': 'ตรัง',\n",
       " '93': 'พัทลุง',\n",
       " '94': 'ปัตตานี',\n",
       " '95': 'ยะลา',\n",
       " '96': 'นราธิวาส'}"
      ]
     },
     "execution_count": 14,
     "metadata": {},
     "output_type": "execute_result"
    }
   ],
   "source": [
    "post2pro"
   ]
  },
  {
   "cell_type": "code",
   "execution_count": 15,
   "metadata": {},
   "outputs": [
    {
     "data": {
      "text/plain": [
       "'ยโสธร'"
      ]
     },
     "execution_count": 15,
     "metadata": {},
     "output_type": "execute_result"
    }
   ],
   "source": [
    "df.at['35120', 'province_in_thai'][0]"
   ]
  },
  {
   "cell_type": "code",
   "execution_count": 129,
   "metadata": {},
   "outputs": [],
   "source": [
    "def get_province_postcode(text, index):\n",
    "    if len(str(text)) < 10:\n",
    "        print ('text too short', index)\n",
    "    postcodes = [str(int(float(s[:5]))) for s in re.findall(r'-?\\d+\\.?\\d*', text) if len(str(int(float(s[:5]))))>=5 and int(float(s[:5])) >= 0]\n",
    "    province_list = []\n",
    "    for postcode in postcodes:\n",
    "        try:\n",
    "            province_list.append(df.at[str(postcode),'province_in_thai'][0] if len(df.at[str(postcode),'province_in_thai'][0]) > 1 else df.at[str(postcode),'province_in_thai']) # special indexing to get the value\n",
    "            \n",
    "            \n",
    "        except Exception as e:\n",
    "            province_list.append(post2pro[postcode[:2]])\n",
    "    return province_list\n",
    "            \n",
    "def get_province_levenshtein(text):\n",
    "   \n",
    "    words = text.split()[-4:]\n",
    "    final_dict = {}\n",
    "    words = [i for i in words if len(i) >= 4]\n",
    "    dict_score = defaultdict(lambda: 0)\n",
    "    for word in words:\n",
    "        # check the correct word that have a lot of common with the word\n",
    "        purged_word = purge(word)\n",
    "        # loop through all the states and see which one get higher accuracy       \n",
    "        \n",
    "\n",
    "        for province in thai_province_list:\n",
    "            purged_province = purge(province)\n",
    "            \n",
    "            score = fuzz.partial_ratio(purged_word, purged_province)\n",
    "            dict_score[province] = max(score, dict_score[province])\n",
    "        \n",
    "        correct_province = {k:v for k,v in dict_score.items() if v == max(dict_score.values())}\n",
    "        final_dict = {**final_dict, **correct_province}\n",
    "    return  list( {k:v for k,v in final_dict.items() if v == max(final_dict.values())}.keys() )\n",
    "        \n",
    "            \n",
    "def purge(string):\n",
    "    new_string = ''\n",
    "    delete_list = [b'\\xe0\\xb8\\xb1',b'\\xe0\\xb8\\xb3',b'\\xe0\\xb8\\xb4',b'\\xe0\\xb8\\xb5',b'\\xe0\\xb8\\xb6',b'\\xe0\\xb8\\xb7',b'\\xe0\\xb8\\xb8',b'\\xe0\\xb8\\xb9',b'\\xe0\\xb8\\xba',b'\\xe0\\xb9\\x87',b'\\xe0\\xb9\\x88',b'\\xe0\\xb9\\x89',b'\\xe0\\xb9\\x8a',b'\\xe0\\xb9\\x8b',b'\\xe0\\xb9\\x8c',b'\\xe0\\xb9\\x8d',b'\\xe0\\xb9\\x8e']\n",
    "    for char in string:\n",
    "        if char.encode('utf') not in delete_list:\n",
    "            new_string += char\n",
    "    return new_string"
   ]
  },
  {
   "cell_type": "code",
   "execution_count": 130,
   "metadata": {},
   "outputs": [],
   "source": [
    "def get_province_postcode1(text, index):\n",
    "    if len(str(text)) < 10:\n",
    "        print ('text too short', index)\n",
    "    postcodes = [str(int(float(s[:5]))) for s in re.findall(r'-?\\d+\\.?\\d*', text) if len(str(int(float(s[:5]))))>=5 and int(float(s[:5])) >= 0]\n",
    "    province_list = []\n",
    "    for postcode in postcodes:\n",
    "        try:\n",
    "            province = df.at[str(postcode),'province_in_thai'][0] if len(df.at[str(postcode),'province_in_thai'][0]) > 1 else df.at[str(postcode),'province_in_thai'] # special indexing to get the value\n",
    "            return province\n",
    "            \n",
    "        except Exception as e:\n",
    "            province = post2pro[postcode[:2]]\n",
    "            return province\n",
    "    "
   ]
  },
  {
   "cell_type": "markdown",
   "metadata": {},
   "source": [
    "# 139 out of 176 valid ones are correct using postcode"
   ]
  },
  {
   "cell_type": "code",
   "execution_count": 131,
   "metadata": {},
   "outputs": [
    {
     "name": "stdout",
     "output_type": "stream",
     "text": [
      "177\n",
      "[[['เชียงใหม่'], 'เชียงใหม่', 10309], [['กรุงเทพมหานคร', 'บุรีรัมย์', 'กรุงเทพมหานคร'], 'กรุงเทพ', 162], [['ชลบุรี'], 'ชลบุรี', 1384], [['กรุงเทพมหานคร'], 'กรุงเทพ', 1031], [['ปราจีนบุรี'], 'ปราจีนบุรี', 10255], [['นครราชสีมา'], 'นครราชสีมา', 10241], [['พิษณุโลก'], 'พิษณุโลก', 10269], [['ศรีสะเกษ'], 'ศรีสะเกษ', 10296], [['มหาสารคาม'], 'มหาสารคาม', 1596], [['กรุงเทพมหานคร'], 'กรุงเทพ', 1597], [['กรุงเทพมหานคร'], 'กรุงเทพ', 10297], [['อุตรดิตถ์'], 'อุตรดิตถ์', 10268], [['กรุงเทพมหานคร'], 'กรุงเทพ', 10240], [['นครปฐม'], 'นครปฐม', 10254], [['กรุงเทพมหานคร'], 'กรุงเทพ', 10693], [['กรุงเทพมหานคร'], 'กรุงเทพ', 1420], [[], 'ปทุมธานี', 10308], [['กรุงเทพมหานคร'], 'กรุงเทพ', 10320], [['กรุงเทพมหานคร'], 'กรุงเทพ', 10322], [['กรุงเทพมหานคร'], 'กรุงเทพ', 1620], [['สมุทรสาคร'], 'สมุทรสาคร', 10242], [['กรุงเทพมหานคร'], 'กรุงเทพ', 10256], [['แพร่', 'สมุทรสาคร'], 'สมุทรสาคร', 1224], [['นครราชสีมา'], 'นครราชสีมา', 10295], [[], 'ภูเก็ต', 10294], [['กรุงเทพมหานคร'], 'กรุงเทพ', 1543], [['ปทุมธานี'], 'ปทุมธานี', 10243], [['กรุงเทพมหานคร'], 'กรุงเทพ', 1153], [['กรุงเทพมหานคร'], 'กรุงเทพ', 1621], [['อุบลราชธานี'], 'อุบลราชธานี', 1609], [['กรุงเทพมหานคร'], 'กรุงเทพ', 1423], [['ราชบุรี', 'หนองบัวลำภู'], 'ราชบุรี', 10323], [['นครศรีธรรมราช'], 'นครศรีธรรมราช', 1427], [['สมุทรปราการ'], 'สมุทรปราการ', 10327], [['ระยอง'], 'ระยอง', 10253], [['ลำปาง', 'อุบลราชธานี'], 'อุบลราชธานี', 1590], [[], 'ชลบุรี', 10290], [['ยโสธร'], 'ยโสธร', 10291], [['เชียงใหม่'], 'เชียงใหม่', 10285], [['กรุงเทพมหานคร'], 'กรุงเทพ', 10252], [['กรุงเทพมหานคร'], 'กรุงเทพ', 10508], [['สุพรรณบุรี'], 'สุพรรณบุรี', 1618], [['นนทบุรี'], nan, 1397], [['นนทบุรี'], 'นนทบุรี', 1383], [['ชลบุรี'], 'ชลบุรี', 10440], [['ตราด'], 'ตราด', 1426], [['ปทุมธานี'], 'ปทุมธานี', 1430], [['นครพนม'], 'นครพนม', 10318], [['กรุงเทพมหานคร'], 'เลย', 1356], [['นนทบุรี'], 'นนทบุรี', 1418], [['กรุงเทพมหานคร'], 'สมุทรปราการ', 1381], [['ลพบุรี'], 'ลพบุรี', 10278], [['ระยอง'], 'ระยอง', 10250], [['สมุทรปราการ'], 'สมุทรปราการ', 10244], [['กรุงเทพมหานคร'], 'กรุงเทพ', 10293], [['ปทุมธานี'], 'ชลบุรี', 10287], [['กรุงเทพมหานคร', 'พัทลุง'], 'กรุงเทพ', 10286], [['เพชรบุรี'], 'เพชรบุรี', 10292], [[], 'ชลบุรี', 1592], [['ประจวบคีรีขันธ์', 'กรุงเทพมหานคร'], 'กรุงเทพ', 1586], [['กรุงเทพมหานคร'], 'กรุงเทพ', 10251], [['ชัยภูมิ'], 'ชัยภูมิ', 1545], [['กรุงเทพมหานคร'], 'สมุทรปราการ', 1182], [['ชลบุรี', 'กรุงเทพมหานคร'], 'กรุงเทพ', 1196], [['นนทบุรี'], 'นนทบุรี', 1419], [['ภูเก็ต'], 'ภูเก็ต', 10325], [['อุดรธานี'], 'อุดรธานี', 1425], [['กรุงเทพมหานคร'], 'กรุงเทพ', 1318], [['กระบี่'], 'กระบี่', 1330], [['บุรีรัมย์'], 'บุรีรัมย์', 1442], [['กรุงเทพมหานคร'], 'กรุงเทพ', 10829], [['ขอนแก่น'], 'ขอนแก่น', 1536], [['สมุทรสาคร'], nan, 1251], [['ระยอง'], 'ระยอง', 10237], [['กรุงเทพมหานคร'], 'กรุงเทพ', 1084], [['กรุงเทพมหานคร'], 'สมุทรปราการ', 1047], [['กรุงเทพมหานคร'], 'สมุทรปราการ', 1721], [['อุดรธานี'], 'อุดรธานี', 1709], [['นครราชสีมา'], nan, 10155], [['กรุงเทพมหานคร'], nan, 10157], [['กรุงเทพมหานคร'], 'กรุงเทพ', 10779], [['อุบลราชธานี'], 'อุบลราชธานี', 1086], [['นราธิวาส', 'สระบุรี'], 'สระบุรี', 1087], [[], 'อุดรธานี', 1093], [['กรุงเทพมหานคร'], 'กรุงเทพ', 1736], [['พระนครศรีอยุธยา'], 'อยุธยา', 10778], [['ชลบุรี'], 'ชลบุรี', 1078], [['ปทุมธานี'], 'ปทุมธานี', 1326], [['กรุงเทพมหานคร'], 'กรุงเทพ', 1040], [['กรุงเทพมหานคร'], 'กรุงเทพ', 1726], [['นนทบุรี'], 'นนทบุรี', 1083], [['นครสวรรค์', 'สมุทรปราการ'], 'สมุทรปราการ', 10783], [['นครศรีธรรมราช'], 'นครศรีธรรมราช', 10224], [['ปัตตานี'], 'ปัตตานี', 10557], [['กรุงเทพมหานคร'], 'กรุงเทพ', 10225], [['ชลบุรี'], 'ชลบุรี', 1069], [['นนทบุรี'], 'นนทบุรี', 10347], [['ตราด', 'ภูเก็ต'], nan, 1309], [['ระยอง'], nan, 10151], [['กรุงเทพมหานคร'], 'กรุงเทพ', 1725], [['อุบลราชธานี'], 'อุบลราชธานี', 1719], [['ปทุมธานี'], 'ปทุมธานี', 10780], [[], 'อุบลราชธานี', 1269], [['ปทุมธานี'], 'ปทุมธานี่', 1095], [['สมุทรปราการ'], 'สมุทรปราการ', 1718], [['อุทัยธานี'], 'อุทัยธานี', 1724], [['ปราจีนบุรี'], 'ปราจีนบุรี', 10622], [[], 'นครปฐม', 1334], [['กรุงเทพมหานคร'], 'กรุงเทพ', 10439], [[], 'กรุงเทพ', 1305], [['ชลบุรี'], 'ชลบุรี', 1073], [['ฉะเชิงเทรา'], 'ฉะเชิงเทรา', 1259], [['กรุงเทพมหานคร'], 'กรุงเทพ', 1489], [[], 'กรุงเทพ', 1304], [['สุพรรณบุรี'], 'สุพรรณบุรี', 1462], [['ภูเก็ต'], 'ภูเก็ต', 1070], [['สุราษฎร์ธานี'], 'สุราษฏร์ธานี', 10214], [['กรุงเทพมหานคร'], 'กรุงเทพ', 1272], [['นครราชสีมา'], 'นครราชสีมา', 1266], [['ชัยนาท'], 'ชัยนาท', 1299], [[], 'อยุธยา', 1298], [['กรุงเทพมหานคร'], 'กรุงเทพ', 1071], [['ชลบุรี'], 'ชลบุรี', 1465], [['ปทุมธานี'], 'ปทุมธานี', 1505], [['กรุงเทพมหานคร'], 'ขอนแก่น', 1538], [['สงขลา'], 'สงขลา', 10238], [['ประจวบคีรีขันธ์'], 'ประจวบคีรีขันธ์', 1074], [['ปทุมธานี'], 'ปทุมธานี', 10364], [['กรุงเทพมหานคร'], 'กรุงเทพ', 1464], [['กรุงเทพมหานคร'], 'กรุงเทพ', 1076], [['กรุงเทพมหานคร'], 'กรุงเทพ', 1738], [['นครราชสีมา'], 'นครราชสีมา', 1506], [['กรุงเทพมหานคร'], 'กรุงเทพ', 1512], [['สมุทรสาคร'], 'สมุทรสาคร', 1088], [['จันทบุรี'], 'จันทบุรี', 10777], [['กรุงเทพมหานคร'], nan, 130], [['นครศรีธรรมราช', 'กรุงเทพมหานคร'], 'กรุงเทพ', 1602], [['กรุงเทพมหานคร'], 'ระยอง', 10704], [['พระนครศรีอยุธยา'], 'อยุธยา', 10506], [['อุบลราชธานี'], 'อุบลราชธานี', 10248], [['นครศรีธรรมราช', 'กรุงเทพมหานคร'], 'กรุงเทพ', 10249], [['ชุมพร'], 'ชุมพร', 1549], [['ชัยภูมิ'], 'ชัยภูมิ', 10507], [['เชียงใหม่'], 'เชียงใหม่', 10275], [['กรุงเทพมหานคร'], 'ระยอง', 10705], [['ปทุมธานี'], 'ปทุมธานี', 1603], [['เลย'], 'เลย', 10315], [['นครสวรรค์'], 'นครสวรรค์', 10317], [['กรุงเทพมหานคร'], 'กรุงเทพ', 1365], [['กรุงเทพมหานคร'], 'กรุงเทพ', 1417], [['ปทุมธานี'], 'ปทุมธานี', 1601], [['กรุงเทพมหานคร'], 'กรุงเทพ', 10511], [['ราชบุรี'], 'ราชบุรี', 10288], [['สุราษฎร์ธานี'], 'สุราษฎร์ธานี', 10289], [['สมุทรปราการ'], 'สมุทรปราการ', 10510], [['ชลบุรี'], 'ชลบุรี', 10100], [['พระนครศรีอยุธยา'], 'พระนครศรีอยุธยา', 10312], [[], 'เพชรบุรี', 10266], [['ปทุมธานี'], 'ปทุมธานี', 10272], [['กรุงเทพมหานคร'], 'กรุงเทพ', 10299], [['กรุงเทพมหานคร'], 'กรุงเทพ', 10273], [['มุกดาหาร'], 'มุกดาหาร', 10267], [[], 'ปทุมธานี', 1611], [['อุดรธานี'], 'อุดรธานี', 1605], [['มุกดาหาร'], 'มุกดาหาร', 10307], [['ปทุมธานี'], 'ปทุมธานี', 10313], [['กรุงเทพมหานคร'], 'กรุงเทพ', 1613], [['กรุงเทพมหานคร'], 'กรุงเทพ', 10067], [['กรุงเทพมหานคร'], 'กรุงเทพ', 10517], [['ฉะเชิงเทรา'], 'ฉะเชิงเทรา', 10271], [['ลำปาง'], 'ลำปาง', 10265], [['ศรีสะเกษ'], 'ศรีสะเกษ', 10503], [['ปราจีนบุรี'], 'ปราจีนบุรี', 10516], [['อุดรธานี'], 'อุดรธานี', 10270], [['กรุงเทพมหานคร'], 'กรุงเทพ', 1202], [['ชลบุรี'], 'ชลบุรี', 10066], [['กรุงเทพมหานคร'], 'กรุงเทพ', 10310]]\n",
      "177\n"
     ]
    },
    {
     "name": "stderr",
     "output_type": "stream",
     "text": [
      "/Users/i351707/anaconda3/lib/python3.6/site-packages/ipykernel_launcher.py:5: FutureWarning: get_value is deprecated and will be removed in a future release. Please use .at[] or .iat[] accessors instead\n",
      "  \"\"\"\n",
      "/Users/i351707/anaconda3/lib/python3.6/site-packages/ipykernel_launcher.py:6: FutureWarning: get_value is deprecated and will be removed in a future release. Please use .at[] or .iat[] accessors instead\n",
      "  \n"
     ]
    }
   ],
   "source": [
    "postcode = []\n",
    "format_wrong=0;format_right=0\n",
    "for index in raw_txt.index:\n",
    "    try:\n",
    "        text = raw_txt.get_value(index,'text')\n",
    "        postcode.append([get_province_postcode(text,index),raw_txt.get_value(index,'Recipient state'),index])\n",
    "        format_right+=1\n",
    "    except Exception:\n",
    "        postcode.append(['text format wrong',raw_txt.get_value(index,'Recipient state'),index])\n",
    "        format_wrong+=1\n",
    "print(format_right)\n",
    "print(postcode)\n",
    "print(len(raw_txt))"
   ]
  },
  {
   "cell_type": "code",
   "execution_count": 132,
   "metadata": {},
   "outputs": [
    {
     "name": "stdout",
     "output_type": "stream",
     "text": [
      "list index out of range\n",
      "[['แพร่', 'สมุทรสาคร'], 'สมุทรสาคร', 1224]\n",
      "list index out of range\n",
      "[['ลำปาง', 'อุบลราชธานี'], 'อุบลราชธานี', 1590]\n",
      "list index out of range\n",
      "'in <string>' requires string as left operand, not float\n",
      "[['กรุงเทพมหานคร'], 'เลย', 1356]\n",
      "[['กรุงเทพมหานคร'], 'สมุทรปราการ', 1381]\n",
      "[['ปทุมธานี'], 'ชลบุรี', 10287]\n",
      "list index out of range\n",
      "[['ประจวบคีรีขันธ์', 'กรุงเทพมหานคร'], 'กรุงเทพ', 1586]\n",
      "[['กรุงเทพมหานคร'], 'สมุทรปราการ', 1182]\n",
      "[['ชลบุรี', 'กรุงเทพมหานคร'], 'กรุงเทพ', 1196]\n",
      "'in <string>' requires string as left operand, not float\n",
      "[['กรุงเทพมหานคร'], 'สมุทรปราการ', 1047]\n",
      "[['กรุงเทพมหานคร'], 'สมุทรปราการ', 1721]\n",
      "'in <string>' requires string as left operand, not float\n",
      "'in <string>' requires string as left operand, not float\n",
      "[['นราธิวาส', 'สระบุรี'], 'สระบุรี', 1087]\n",
      "list index out of range\n",
      "[['นครสวรรค์', 'สมุทรปราการ'], 'สมุทรปราการ', 10783]\n",
      "'in <string>' requires string as left operand, not float\n",
      "'in <string>' requires string as left operand, not float\n",
      "list index out of range\n",
      "[['ปทุมธานี'], 'ปทุมธานี่', 1095]\n",
      "list index out of range\n",
      "list index out of range\n",
      "list index out of range\n",
      "[['สุราษฎร์ธานี'], 'สุราษฏร์ธานี', 10214]\n",
      "list index out of range\n",
      "[['กรุงเทพมหานคร'], 'ขอนแก่น', 1538]\n",
      "'in <string>' requires string as left operand, not float\n",
      "[['นครศรีธรรมราช', 'กรุงเทพมหานคร'], 'กรุงเทพ', 1602]\n",
      "[['กรุงเทพมหานคร'], 'ระยอง', 10704]\n",
      "[['นครศรีธรรมราช', 'กรุงเทพมหานคร'], 'กรุงเทพ', 10249]\n",
      "[['กรุงเทพมหานคร'], 'ระยอง', 10705]\n",
      "list index out of range\n",
      "list index out of range\n"
     ]
    },
    {
     "data": {
      "text/plain": [
       "139"
      ]
     },
     "execution_count": 132,
     "metadata": {},
     "output_type": "execute_result"
    }
   ],
   "source": [
    "postcode_right = 0\n",
    "for i in postcode:\n",
    "    try:\n",
    "        if type(i[0]) == str:\n",
    "            if i[1] in i[0]:\n",
    "                postcode_right += 1\n",
    "            else:\n",
    "                print(i)\n",
    "        else:\n",
    "            if i[1] in i[0][0]:\n",
    "                postcode_right += 1\n",
    "            else:\n",
    "                print(i)\n",
    "    except Exception as e:\n",
    "        print(e)\n",
    "postcode_right"
   ]
  },
  {
   "cell_type": "markdown",
   "metadata": {},
   "source": [
    "## reasons for error:\n",
    "1. do not have the zip code in the database\n",
    "2. tesseract processing 50100 to 506106\n"
   ]
  },
  {
   "cell_type": "markdown",
   "metadata": {},
   "source": [
    "# 74 correct out of 176 using levenstein"
   ]
  },
  {
   "cell_type": "code",
   "execution_count": 133,
   "metadata": {},
   "outputs": [
    {
     "name": "stderr",
     "output_type": "stream",
     "text": [
      "/Users/i351707/anaconda3/lib/python3.6/site-packages/ipykernel_launcher.py:5: FutureWarning: get_value is deprecated and will be removed in a future release. Please use .at[] or .iat[] accessors instead\n",
      "  \"\"\"\n",
      "/Users/i351707/anaconda3/lib/python3.6/site-packages/ipykernel_launcher.py:6: FutureWarning: get_value is deprecated and will be removed in a future release. Please use .at[] or .iat[] accessors instead\n",
      "  \n"
     ]
    },
    {
     "name": "stdout",
     "output_type": "stream",
     "text": [
      "177\n"
     ]
    }
   ],
   "source": [
    "stat_dict = {}\n",
    "format_right = 0; format_wrong = 0\n",
    "for index in raw_txt.index:\n",
    "    try:\n",
    "        text = raw_txt.get_value(index,'text')\n",
    "        stat_dict[index] = [get_province_levenshtein(text),raw_txt.get_value(index,'Recipient state')]\n",
    "        format_right += 1\n",
    "    except Exception as e:\n",
    "#         stat_dict[index] = ['text format wrong',raw_txt.loc[index,'Recipient state']]\n",
    "        format_wrong += 1\n",
    "        print(e)\n",
    "\n",
    "print(len(stat_dict))"
   ]
  },
  {
   "cell_type": "code",
   "execution_count": 134,
   "metadata": {},
   "outputs": [
    {
     "name": "stdout",
     "output_type": "stream",
     "text": [
      "162 [['สระแก้ว', 'ขอนแก่น'], 'กรุงเทพ']\n",
      "1031 [['กรุงเทพมหานคร'], 'กรุงเทพ']\n",
      "1597 [['สุพรรณบุรี', 'ศรีสะเกษ'], 'กรุงเทพ']\n",
      "10297 [['แพร่'], 'กรุงเทพ']\n",
      "10240 [['ตราด'], 'กรุงเทพ']\n",
      "10254 [['อุบลราชธานี', 'นครศรีธรรมราช', 'เชียงราย', 'ร้อยเอ็ด', 'เพชรบูรณ์', 'เพชรบุรี', 'ชลบุรี', 'ชัยนาท', 'กำแพงเพชร', 'ชัยภูมิ', 'อุตรดิตถ์', 'อุดรธานี', 'นครราชสีมา', 'ราชบุรี', 'ฉะเชิงเทรา', 'ชุมพร', 'เชียงใหม่', 'มุกดาหาร', 'ตราด'], 'นครปฐม']\n",
      "10693 [['กรุงเทพมหานคร'], 'กรุงเทพ']\n",
      "1420 [['สตูล', 'น่าน'], 'กรุงเทพ']\n",
      "10320 [['สระบุรี', 'ประจวบคีรีขันธ์', 'ระยอง', 'พระนครศรีอยุธยา', 'อุบลราชธานี', 'สุพรรณบุรี', 'นครศรีธรรมราช', 'สกลนคร', 'เชียงราย', 'ร้อยเอ็ด', 'แพร่', 'เพชรบูรณ์', 'นราธิวาส', 'ศรีสะเกษ', 'เพชรบุรี', 'ชลบุรี', 'มหาสารคาม', 'ชัยนาท', 'บุรีรัมย์', 'สตูล', 'นครปฐม', 'แม่ฮ่องสอน', 'กำแพงเพชร', 'ชัยภูมิ', 'ยโสธร', 'สมุทรปราการ', 'น่าน', 'กาฬสินธุ์', 'อุตรดิตถ์', 'นครพนม', 'สงขลา', 'ลำพูน', 'ปราจีนบุรี', 'อ่างทอง', 'อุทัยธานี', 'สมุทรสาคร', 'สระแก้ว', 'กรุงเทพมหานคร', 'ปทุมธานี', 'หนองคาย', 'อุดรธานี', 'นครสวรรค์', 'นครนายก', 'สุราษฎร์ธานี', 'หนองบัวลำภู', 'นครราชสีมา', 'ตรัง', 'อำนาจเจริญ', 'ยะลา', 'ตาก', 'ปัตตานี', 'ราชบุรี', 'พิษณุโลก', 'ขอนแก่น', 'ภูเก็ต', 'นนทบุรี', 'กาญจนบุรี', 'กระบี่', 'ฉะเชิงเทรา', 'บึงกาฬ', 'ชุมพร', 'สุรินทร์', 'พิจิตร', 'สุโขทัย', 'ลพบุรี', 'พะเยา', 'เลย', 'เชียงใหม่', 'สมุทรสงคราม', 'สิงห์บุรี', 'มุกดาหาร', 'พัทลุง', 'ตราด', 'ลำปาง', 'จันทบุรี', 'ระนอง', 'พังงา'], 'กรุงเทพ']\n",
      "10322 [['เลย'], 'กรุงเทพ']\n",
      "1620 [['สกลนคร', 'แม่ฮ่องสอน', 'กาฬสินธุ์', 'ขอนแก่น', 'สุรินทร์'], 'กรุงเทพ']\n",
      "10242 [['กระบี่'], 'สมุทรสาคร']\n",
      "10256 [['สุรินทร์'], 'กรุงเทพ']\n",
      "1543 [['ตาก'], 'กรุงเทพ']\n",
      "10243 [['สระบุรี', 'ประจวบคีรีขันธ์', 'อุบลราชธานี', 'สุพรรณบุรี', 'ร้อยเอ็ด', 'เพชรบูรณ์', 'เพชรบุรี', 'ชลบุรี', 'บุรีรัมย์', 'กำแพงเพชร', 'ปราจีนบุรี', 'อำนาจเจริญ', 'ราชบุรี', 'นนทบุรี', 'กาญจนบุรี', 'ฉะเชิงเทรา', 'ลพบุรี', 'สิงห์บุรี', 'จันทบุรี'], 'ปทุมธานี']\n",
      "1153 [['กรุงเทพมหานคร'], 'กรุงเทพ']\n",
      "1621 [['หนองคาย', 'สุพรรณบุรี', 'ศรีสะเกษ'], 'กรุงเทพ']\n",
      "1423 [['กรุงเทพมหานคร'], 'กรุงเทพ']\n",
      "10253 [['พิจิตร', 'ตราด'], 'ระยอง']\n",
      "10252 [['อ่างทอง'], 'กรุงเทพ']\n",
      "10508 [['ตาก'], 'กรุงเทพ']\n",
      "1397 [['ตาก'], nan]\n",
      "1356 [['พิจิตร', 'ลำปาง'], 'เลย']\n",
      "10250 [['ตรัง'], 'ระยอง']\n",
      "10293 [['กรุงเทพมหานคร'], 'กรุงเทพ']\n",
      "10286 [['สระบุรี', 'ประจวบคีรีขันธ์', 'ระยอง', 'พระนครศรีอยุธยา', 'อุบลราชธานี', 'สุพรรณบุรี', 'นครศรีธรรมราช', 'สกลนคร', 'เชียงราย', 'ร้อยเอ็ด', 'แพร่', 'เพชรบูรณ์', 'นราธิวาส', 'ศรีสะเกษ', 'เพชรบุรี', 'ชลบุรี', 'มหาสารคาม', 'ชัยนาท', 'บุรีรัมย์', 'สตูล', 'นครปฐม', 'แม่ฮ่องสอน', 'กำแพงเพชร', 'ชัยภูมิ', 'ยโสธร', 'สมุทรปราการ', 'น่าน', 'กาฬสินธุ์', 'อุตรดิตถ์', 'นครพนม', 'สงขลา', 'ลำพูน', 'ปราจีนบุรี', 'อ่างทอง', 'อุทัยธานี', 'สมุทรสาคร', 'สระแก้ว', 'กรุงเทพมหานคร', 'ปทุมธานี', 'หนองคาย', 'อุดรธานี', 'นครสวรรค์', 'นครนายก', 'สุราษฎร์ธานี', 'หนองบัวลำภู', 'นครราชสีมา', 'ตรัง', 'อำนาจเจริญ', 'ยะลา', 'ตาก', 'ปัตตานี', 'ราชบุรี', 'พิษณุโลก', 'ขอนแก่น', 'ภูเก็ต', 'นนทบุรี', 'กาญจนบุรี', 'กระบี่', 'ฉะเชิงเทรา', 'บึงกาฬ', 'ชุมพร', 'สุรินทร์', 'พิจิตร', 'สุโขทัย', 'ลพบุรี', 'พะเยา', 'เลย', 'เชียงใหม่', 'สมุทรสงคราม', 'สิงห์บุรี', 'มุกดาหาร', 'พัทลุง', 'ตราด', 'ลำปาง', 'จันทบุรี', 'ระนอง', 'พังงา'], 'กรุงเทพ']\n",
      "1586 [['แพร่'], 'กรุงเทพ']\n",
      "10251 [['สระบุรี', 'ประจวบคีรีขันธ์', 'ระยอง', 'พระนครศรีอยุธยา', 'อุบลราชธานี', 'สุพรรณบุรี', 'นครศรีธรรมราช', 'สกลนคร', 'เชียงราย', 'ร้อยเอ็ด', 'แพร่', 'เพชรบูรณ์', 'นราธิวาส', 'ศรีสะเกษ', 'เพชรบุรี', 'ชลบุรี', 'มหาสารคาม', 'ชัยนาท', 'บุรีรัมย์', 'สตูล', 'นครปฐม', 'แม่ฮ่องสอน', 'กำแพงเพชร', 'ชัยภูมิ', 'ยโสธร', 'สมุทรปราการ', 'น่าน', 'กาฬสินธุ์', 'อุตรดิตถ์', 'นครพนม', 'สงขลา', 'ลำพูน', 'ปราจีนบุรี', 'อ่างทอง', 'อุทัยธานี', 'สมุทรสาคร', 'สระแก้ว', 'กรุงเทพมหานคร', 'ปทุมธานี', 'หนองคาย', 'อุดรธานี', 'นครสวรรค์', 'นครนายก', 'สุราษฎร์ธานี', 'หนองบัวลำภู', 'นครราชสีมา', 'ตรัง', 'อำนาจเจริญ', 'ยะลา', 'ตาก', 'ปัตตานี', 'ราชบุรี', 'พิษณุโลก', 'ขอนแก่น', 'ภูเก็ต', 'นนทบุรี', 'กาญจนบุรี', 'กระบี่', 'ฉะเชิงเทรา', 'บึงกาฬ', 'ชุมพร', 'สุรินทร์', 'พิจิตร', 'สุโขทัย', 'ลพบุรี', 'พะเยา', 'เลย', 'เชียงใหม่', 'สมุทรสงคราม', 'สิงห์บุรี', 'มุกดาหาร', 'พัทลุง', 'ตราด', 'ลำปาง', 'จันทบุรี', 'ระนอง', 'พังงา'], 'กรุงเทพ']\n",
      "1182 [['กรุงเทพมหานคร'], 'สมุทรปราการ']\n",
      "1196 [['แพร่', 'เลย'], 'กรุงเทพ']\n",
      "1318 [['น่าน'], 'กรุงเทพ']\n",
      "10829 [['กรุงเทพมหานคร'], 'กรุงเทพ']\n",
      "1251 [['สมุทรสาคร'], nan]\n",
      "1084 [['น่าน'], 'กรุงเทพ']\n",
      "1047 [['พิจิตร', 'ลำปาง'], 'สมุทรปราการ']\n",
      "10155 [['เลย'], nan]\n",
      "10157 [['กรุงเทพมหานคร'], nan]\n",
      "10779 [['กรุงเทพมหานคร'], 'กรุงเทพ']\n",
      "1736 [['กรุงเทพมหานคร'], 'กรุงเทพ']\n",
      "10778 [['นนทบุรี'], 'อยุธยา']\n",
      "1078 [['สุพรรณบุรี', 'ศรีสะเกษ'], 'ชลบุรี']\n",
      "1040 [['กรุงเทพมหานคร'], 'กรุงเทพ']\n",
      "1726 [['ลำปาง'], 'กรุงเทพ']\n",
      "10225 [['สระบุรี', 'ประจวบคีรีขันธ์', 'ระยอง', 'พระนครศรีอยุธยา', 'อุบลราชธานี', 'สุพรรณบุรี', 'นครศรีธรรมราช', 'สกลนคร', 'เชียงราย', 'ร้อยเอ็ด', 'แพร่', 'เพชรบูรณ์', 'นราธิวาส', 'ศรีสะเกษ', 'เพชรบุรี', 'ชลบุรี', 'มหาสารคาม', 'ชัยนาท', 'บุรีรัมย์', 'สตูล', 'นครปฐม', 'แม่ฮ่องสอน', 'กำแพงเพชร', 'ชัยภูมิ', 'ยโสธร', 'สมุทรปราการ', 'น่าน', 'กาฬสินธุ์', 'อุตรดิตถ์', 'นครพนม', 'สงขลา', 'ลำพูน', 'ปราจีนบุรี', 'อ่างทอง', 'อุทัยธานี', 'สมุทรสาคร', 'สระแก้ว', 'กรุงเทพมหานคร', 'ปทุมธานี', 'หนองคาย', 'อุดรธานี', 'นครสวรรค์', 'นครนายก', 'สุราษฎร์ธานี', 'หนองบัวลำภู', 'นครราชสีมา', 'ตรัง', 'อำนาจเจริญ', 'ยะลา', 'ตาก', 'ปัตตานี', 'ราชบุรี', 'พิษณุโลก', 'ขอนแก่น', 'ภูเก็ต', 'นนทบุรี', 'กาญจนบุรี', 'กระบี่', 'ฉะเชิงเทรา', 'บึงกาฬ', 'ชุมพร', 'สุรินทร์', 'พิจิตร', 'สุโขทัย', 'ลพบุรี', 'พะเยา', 'เลย', 'เชียงใหม่', 'สมุทรสงคราม', 'สิงห์บุรี', 'มุกดาหาร', 'พัทลุง', 'ตราด', 'ลำปาง', 'จันทบุรี', 'ระนอง', 'พังงา'], 'กรุงเทพ']\n",
      "1309 [['สระบุรี', 'ประจวบคีรีขันธ์', 'ระยอง', 'พระนครศรีอยุธยา', 'อุบลราชธานี', 'สุพรรณบุรี', 'นครศรีธรรมราช', 'สกลนคร', 'เชียงราย', 'ร้อยเอ็ด', 'แพร่', 'เพชรบูรณ์', 'นราธิวาส', 'ศรีสะเกษ', 'เพชรบุรี', 'ชลบุรี', 'มหาสารคาม', 'ชัยนาท', 'บุรีรัมย์', 'สตูล', 'นครปฐม', 'แม่ฮ่องสอน', 'กำแพงเพชร', 'ชัยภูมิ', 'ยโสธร', 'สมุทรปราการ', 'น่าน', 'กาฬสินธุ์', 'อุตรดิตถ์', 'นครพนม', 'สงขลา', 'ลำพูน', 'ปราจีนบุรี', 'อ่างทอง', 'อุทัยธานี', 'สมุทรสาคร', 'สระแก้ว', 'กรุงเทพมหานคร', 'ปทุมธานี', 'หนองคาย', 'อุดรธานี', 'นครสวรรค์', 'นครนายก', 'สุราษฎร์ธานี', 'หนองบัวลำภู', 'นครราชสีมา', 'ตรัง', 'อำนาจเจริญ', 'ยะลา', 'ตาก', 'ปัตตานี', 'ราชบุรี', 'พิษณุโลก', 'ขอนแก่น', 'ภูเก็ต', 'นนทบุรี', 'กาญจนบุรี', 'กระบี่', 'ฉะเชิงเทรา', 'บึงกาฬ', 'ชุมพร', 'สุรินทร์', 'พิจิตร', 'สุโขทัย', 'ลพบุรี', 'พะเยา', 'เลย', 'เชียงใหม่', 'สมุทรสงคราม', 'สิงห์บุรี', 'มุกดาหาร', 'พัทลุง', 'ตราด', 'ลำปาง', 'จันทบุรี', 'ระนอง', 'พังงา'], nan]\n",
      "10151 [['สระบุรี', 'ประจวบคีรีขันธ์', 'ระยอง', 'พระนครศรีอยุธยา', 'อุบลราชธานี', 'สุพรรณบุรี', 'นครศรีธรรมราช', 'สกลนคร', 'เชียงราย', 'ร้อยเอ็ด', 'แพร่', 'เพชรบูรณ์', 'นราธิวาส', 'ศรีสะเกษ', 'เพชรบุรี', 'ชลบุรี', 'มหาสารคาม', 'ชัยนาท', 'บุรีรัมย์', 'สตูล', 'นครปฐม', 'แม่ฮ่องสอน', 'กำแพงเพชร', 'ชัยภูมิ', 'ยโสธร', 'สมุทรปราการ', 'น่าน', 'กาฬสินธุ์', 'อุตรดิตถ์', 'นครพนม', 'สงขลา', 'ลำพูน', 'ปราจีนบุรี', 'อ่างทอง', 'อุทัยธานี', 'สมุทรสาคร', 'สระแก้ว', 'กรุงเทพมหานคร', 'ปทุมธานี', 'หนองคาย', 'อุดรธานี', 'นครสวรรค์', 'นครนายก', 'สุราษฎร์ธานี', 'หนองบัวลำภู', 'นครราชสีมา', 'ตรัง', 'อำนาจเจริญ', 'ยะลา', 'ตาก', 'ปัตตานี', 'ราชบุรี', 'พิษณุโลก', 'ขอนแก่น', 'ภูเก็ต', 'นนทบุรี', 'กาญจนบุรี', 'กระบี่', 'ฉะเชิงเทรา', 'บึงกาฬ', 'ชุมพร', 'สุรินทร์', 'พิจิตร', 'สุโขทัย', 'ลพบุรี', 'พะเยา', 'เลย', 'เชียงใหม่', 'สมุทรสงคราม', 'สิงห์บุรี', 'มุกดาหาร', 'พัทลุง', 'ตราด', 'ลำปาง', 'จันทบุรี', 'ระนอง', 'พังงา'], nan]\n",
      "1725 [['สระบุรี', 'ประจวบคีรีขันธ์', 'ระยอง', 'พระนครศรีอยุธยา', 'อุบลราชธานี', 'สุพรรณบุรี', 'นครศรีธรรมราช', 'สกลนคร', 'เชียงราย', 'ร้อยเอ็ด', 'แพร่', 'เพชรบูรณ์', 'นราธิวาส', 'ศรีสะเกษ', 'เพชรบุรี', 'ชลบุรี', 'มหาสารคาม', 'ชัยนาท', 'บุรีรัมย์', 'สตูล', 'นครปฐม', 'แม่ฮ่องสอน', 'กำแพงเพชร', 'ชัยภูมิ', 'ยโสธร', 'สมุทรปราการ', 'น่าน', 'กาฬสินธุ์', 'อุตรดิตถ์', 'นครพนม', 'สงขลา', 'ลำพูน', 'ปราจีนบุรี', 'อ่างทอง', 'อุทัยธานี', 'สมุทรสาคร', 'สระแก้ว', 'กรุงเทพมหานคร', 'ปทุมธานี', 'หนองคาย', 'อุดรธานี', 'นครสวรรค์', 'นครนายก', 'สุราษฎร์ธานี', 'หนองบัวลำภู', 'นครราชสีมา', 'ตรัง', 'อำนาจเจริญ', 'ยะลา', 'ตาก', 'ปัตตานี', 'ราชบุรี', 'พิษณุโลก', 'ขอนแก่น', 'ภูเก็ต', 'นนทบุรี', 'กาญจนบุรี', 'กระบี่', 'ฉะเชิงเทรา', 'บึงกาฬ', 'ชุมพร', 'สุรินทร์', 'พิจิตร', 'สุโขทัย', 'ลพบุรี', 'พะเยา', 'เลย', 'เชียงใหม่', 'สมุทรสงคราม', 'สิงห์บุรี', 'มุกดาหาร', 'พัทลุง', 'ตราด', 'ลำปาง', 'จันทบุรี', 'ระนอง', 'พังงา'], 'กรุงเทพ']\n",
      "10780 [['เลย'], 'ปทุมธานี']\n",
      "1095 [['ปทุมธานี'], 'ปทุมธานี่']\n",
      "1724 [['ราชบุรี'], 'อุทัยธานี']\n",
      "1334 [['ลำปาง'], 'นครปฐม']\n",
      "10439 [['พระนครศรีอยุธยา'], 'กรุงเทพ']\n",
      "1305 [['อุบลราชธานี', 'นครราชสีมา', 'เลย', 'ตรัง'], 'กรุงเทพ']\n",
      "1489 [['กรุงเทพมหานคร'], 'กรุงเทพ']\n",
      "1304 [['กรุงเทพมหานคร'], 'กรุงเทพ']\n",
      "10214 [[], 'สุราษฏร์ธานี']\n",
      "1272 [['กรุงเทพมหานคร'], 'กรุงเทพ']\n",
      "1298 [['ปัตตานี'], 'อยุธยา']\n",
      "1071 [['ตาก'], 'กรุงเทพ']\n",
      "1538 [['ลำปาง'], 'ขอนแก่น']\n",
      "1464 [['น่าน'], 'กรุงเทพ']\n",
      "1076 [['ตาก'], 'กรุงเทพ']\n",
      "1738 [['น่าน'], 'กรุงเทพ']\n",
      "1512 [['พิจิตร', 'ลำปาง'], 'กรุงเทพ']\n",
      "10777 [['สุรินทร์'], 'จันทบุรี']\n",
      "130 [['สระบุรี', 'ประจวบคีรีขันธ์', 'ระยอง', 'พระนครศรีอยุธยา', 'อุบลราชธานี', 'สุพรรณบุรี', 'นครศรีธรรมราช', 'สกลนคร', 'เชียงราย', 'ร้อยเอ็ด', 'แพร่', 'เพชรบูรณ์', 'นราธิวาส', 'ศรีสะเกษ', 'เพชรบุรี', 'ชลบุรี', 'มหาสารคาม', 'ชัยนาท', 'บุรีรัมย์', 'สตูล', 'นครปฐม', 'แม่ฮ่องสอน', 'กำแพงเพชร', 'ชัยภูมิ', 'ยโสธร', 'สมุทรปราการ', 'น่าน', 'กาฬสินธุ์', 'อุตรดิตถ์', 'นครพนม', 'สงขลา', 'ลำพูน', 'ปราจีนบุรี', 'อ่างทอง', 'อุทัยธานี', 'สมุทรสาคร', 'สระแก้ว', 'กรุงเทพมหานคร', 'ปทุมธานี', 'หนองคาย', 'อุดรธานี', 'นครสวรรค์', 'นครนายก', 'สุราษฎร์ธานี', 'หนองบัวลำภู', 'นครราชสีมา', 'ตรัง', 'อำนาจเจริญ', 'ยะลา', 'ตาก', 'ปัตตานี', 'ราชบุรี', 'พิษณุโลก', 'ขอนแก่น', 'ภูเก็ต', 'นนทบุรี', 'กาญจนบุรี', 'กระบี่', 'ฉะเชิงเทรา', 'บึงกาฬ', 'ชุมพร', 'สุรินทร์', 'พิจิตร', 'สุโขทัย', 'ลพบุรี', 'พะเยา', 'เลย', 'เชียงใหม่', 'สมุทรสงคราม', 'สิงห์บุรี', 'มุกดาหาร', 'พัทลุง', 'ตราด', 'ลำปาง', 'จันทบุรี', 'ระนอง', 'พังงา'], nan]\n",
      "1602 [['กรุงเทพมหานคร'], 'กรุงเทพ']\n",
      "10704 [['ตรัง', 'บึงกาฬ'], 'ระยอง']\n",
      "10506 [['สุพรรณบุรี', 'ศรีสะเกษ'], 'อยุธยา']\n",
      "10249 [['กรุงเทพมหานคร', 'ปทุมธานี'], 'กรุงเทพ']\n",
      "10705 [['ตรัง', 'บึงกาฬ'], 'ระยอง']\n",
      "1365 [['กรุงเทพมหานคร'], 'กรุงเทพ']\n",
      "1417 [['เลย'], 'กรุงเทพ']\n",
      "1601 [['หนองคาย'], 'ปทุมธานี']\n",
      "10511 [['กรุงเทพมหานคร', 'ปทุมธานี'], 'กรุงเทพ']\n",
      "10299 [['ลำปาง'], 'กรุงเทพ']\n",
      "10273 [['บึงกาฬ'], 'กรุงเทพ']\n",
      "1613 [['บึงกาฬ'], 'กรุงเทพ']\n",
      "10067 [['สระบุรี', 'ประจวบคีรีขันธ์', 'ระยอง', 'พระนครศรีอยุธยา', 'อุบลราชธานี', 'สุพรรณบุรี', 'นครศรีธรรมราช', 'สกลนคร', 'เชียงราย', 'ร้อยเอ็ด', 'แพร่', 'เพชรบูรณ์', 'นราธิวาส', 'ศรีสะเกษ', 'เพชรบุรี', 'ชลบุรี', 'มหาสารคาม', 'ชัยนาท', 'บุรีรัมย์', 'สตูล', 'นครปฐม', 'แม่ฮ่องสอน', 'กำแพงเพชร', 'ชัยภูมิ', 'ยโสธร', 'สมุทรปราการ', 'น่าน', 'กาฬสินธุ์', 'อุตรดิตถ์', 'นครพนม', 'สงขลา', 'ลำพูน', 'ปราจีนบุรี', 'อ่างทอง', 'อุทัยธานี', 'สมุทรสาคร', 'สระแก้ว', 'กรุงเทพมหานคร', 'ปทุมธานี', 'หนองคาย', 'อุดรธานี', 'นครสวรรค์', 'นครนายก', 'สุราษฎร์ธานี', 'หนองบัวลำภู', 'นครราชสีมา', 'ตรัง', 'อำนาจเจริญ', 'ยะลา', 'ตาก', 'ปัตตานี', 'ราชบุรี', 'พิษณุโลก', 'ขอนแก่น', 'ภูเก็ต', 'นนทบุรี', 'กาญจนบุรี', 'กระบี่', 'ฉะเชิงเทรา', 'บึงกาฬ', 'ชุมพร', 'สุรินทร์', 'พิจิตร', 'สุโขทัย', 'ลพบุรี', 'พะเยา', 'เลย', 'เชียงใหม่', 'สมุทรสงคราม', 'สิงห์บุรี', 'มุกดาหาร', 'พัทลุง', 'ตราด', 'ลำปาง', 'จันทบุรี', 'ระนอง', 'พังงา'], 'กรุงเทพ']\n",
      "10517 [['กรุงเทพมหานคร'], 'กรุงเทพ']\n",
      "10503 [['ระยอง', 'แม่ฮ่องสอน', 'อ่างทอง', 'หนองคาย', 'หนองบัวลำภู', 'ระนอง'], 'ศรีสะเกษ']\n",
      "10516 [['ยโสธร', 'อุดรธานี', 'นนทบุรี', 'สุรินทร์', 'สุโขทัย', 'มุกดาหาร', 'จันทบุรี'], 'ปราจีนบุรี']\n",
      "1202 [['กรุงเทพมหานคร'], 'กรุงเทพ']\n",
      "10310 [['กรุงเทพมหานคร'], 'กรุงเทพ']\n"
     ]
    },
    {
     "data": {
      "text/plain": [
       "93"
      ]
     },
     "execution_count": 134,
     "metadata": {},
     "output_type": "execute_result"
    }
   ],
   "source": [
    "stat_dict_right = 0\n",
    "for index, value in stat_dict.items():\n",
    "    try:\n",
    "        if value[1] in value[0]:\n",
    "            stat_dict_right += 1\n",
    "        else:\n",
    "            print(index, value)\n",
    "    except Exception:\n",
    "        pass\n",
    "stat_dict_right"
   ]
  },
  {
   "cell_type": "markdown",
   "metadata": {},
   "source": [
    "# 153 out of 172 correct"
   ]
  },
  {
   "cell_type": "code",
   "execution_count": 135,
   "metadata": {},
   "outputs": [
    {
     "name": "stdout",
     "output_type": "stream",
     "text": [
      "177\n",
      "[['เชียงใหม่', 'เชียงใหม่', 10309, 'postcode'], ['กรุงเทพมหานคร', 'กรุงเทพ', 162, 'double_postcode'], ['ชลบุรี', 'ชลบุรี', 1384, 'postcode'], ['กรุงเทพมหานคร', 'กรุงเทพ', 1031, 'postcode'], ['ปราจีนบุรี', 'ปราจีนบุรี', 10255, 'postcode'], ['นครราชสีมา', 'นครราชสีมา', 10241, 'postcode'], ['พิษณุโลก', 'พิษณุโลก', 10269, 'postcode'], ['ศรีสะเกษ', 'ศรีสะเกษ', 10296, 'postcode'], ['มหาสารคาม', 'มหาสารคาม', 1596, 'postcode'], ['กรุงเทพมหานคร', 'กรุงเทพ', 1597, 'postcode'], ['กรุงเทพมหานคร', 'กรุงเทพ', 10297, 'postcode'], ['อุตรดิตถ์', 'อุตรดิตถ์', 10268, 'postcode'], ['กรุงเทพมหานคร', 'กรุงเทพ', 10240, 'postcode'], ['นครปฐม', 'นครปฐม', 10254, 'postcode'], ['กรุงเทพมหานคร', 'กรุงเทพ', 10693, 'postcode'], ['กรุงเทพมหานคร', 'กรุงเทพ', 1420, 'postcode'], [['ปทุมธานี'], 'ปทุมธานี', 10308, 'levenshtein'], ['กรุงเทพมหานคร', 'กรุงเทพ', 10320, 'postcode'], ['กรุงเทพมหานคร', 'กรุงเทพ', 10322, 'postcode'], ['กรุงเทพมหานคร', 'กรุงเทพ', 1620, 'postcode'], ['สมุทรสาคร', 'สมุทรสาคร', 10242, 'postcode'], ['กรุงเทพมหานคร', 'กรุงเทพ', 10256, 'postcode'], ['แพร่', 'สมุทรสาคร', 1224, 'double_postcode'], ['นครราชสีมา', 'นครราชสีมา', 10295, 'postcode'], [['ภูเก็ต'], 'ภูเก็ต', 10294, 'levenshtein'], ['กรุงเทพมหานคร', 'กรุงเทพ', 1543, 'postcode'], ['ปทุมธานี', 'ปทุมธานี', 10243, 'postcode'], ['กรุงเทพมหานคร', 'กรุงเทพ', 1153, 'postcode'], ['กรุงเทพมหานคร', 'กรุงเทพ', 1621, 'postcode'], ['อุบลราชธานี', 'อุบลราชธานี', 1609, 'postcode'], ['กรุงเทพมหานคร', 'กรุงเทพ', 1423, 'postcode'], ['ราชบุรี', 'ราชบุรี', 10323, 'double_postcode'], ['นครศรีธรรมราช', 'นครศรีธรรมราช', 1427, 'postcode'], ['สมุทรปราการ', 'สมุทรปราการ', 10327, 'postcode'], ['ระยอง', 'ระยอง', 10253, 'postcode'], ['อุบลราชธานี', 'อุบลราชธานี', 1590, 'double_postcode'], [['ชลบุรี', 'แม่ฮ่องสอน'], 'ชลบุรี', 10290, 'levenshtein'], ['ยโสธร', 'ยโสธร', 10291, 'postcode'], ['เชียงใหม่', 'เชียงใหม่', 10285, 'postcode'], ['กรุงเทพมหานคร', 'กรุงเทพ', 10252, 'postcode'], ['กรุงเทพมหานคร', 'กรุงเทพ', 10508, 'postcode'], ['สุพรรณบุรี', 'สุพรรณบุรี', 1618, 'postcode'], ['นนทบุรี', nan, 1397, 'postcode'], ['นนทบุรี', 'นนทบุรี', 1383, 'postcode'], ['ชลบุรี', 'ชลบุรี', 10440, 'postcode'], ['ตราด', 'ตราด', 1426, 'postcode'], ['ปทุมธานี', 'ปทุมธานี', 1430, 'postcode'], ['นครพนม', 'นครพนม', 10318, 'postcode'], ['กรุงเทพมหานคร', 'เลย', 1356, 'postcode'], ['นนทบุรี', 'นนทบุรี', 1418, 'postcode'], ['กรุงเทพมหานคร', 'สมุทรปราการ', 1381, 'postcode'], ['ลพบุรี', 'ลพบุรี', 10278, 'postcode'], ['ระยอง', 'ระยอง', 10250, 'postcode'], ['สมุทรปราการ', 'สมุทรปราการ', 10244, 'postcode'], ['กรุงเทพมหานคร', 'กรุงเทพ', 10293, 'postcode'], ['ปทุมธานี', 'ชลบุรี', 10287, 'postcode'], ['กรุงเทพมหานคร', 'กรุงเทพ', 10286, 'double_postcode'], ['เพชรบุรี', 'เพชรบุรี', 10292, 'postcode'], [['ชลบุรี'], 'ชลบุรี', 1592, 'levenshtein'], ['ประจวบคีรีขันธ์', 'กรุงเทพ', 1586, 'double_postcode'], ['กรุงเทพมหานคร', 'กรุงเทพ', 10251, 'postcode'], ['ชัยภูมิ', 'ชัยภูมิ', 1545, 'postcode'], ['กรุงเทพมหานคร', 'สมุทรปราการ', 1182, 'postcode'], ['ชลบุรี', 'กรุงเทพ', 1196, 'double_postcode'], ['นนทบุรี', 'นนทบุรี', 1419, 'postcode'], ['ภูเก็ต', 'ภูเก็ต', 10325, 'postcode'], ['อุดรธานี', 'อุดรธานี', 1425, 'postcode'], ['กรุงเทพมหานคร', 'กรุงเทพ', 1318, 'postcode'], ['กระบี่', 'กระบี่', 1330, 'postcode'], ['บุรีรัมย์', 'บุรีรัมย์', 1442, 'postcode'], ['กรุงเทพมหานคร', 'กรุงเทพ', 10829, 'postcode'], ['ขอนแก่น', 'ขอนแก่น', 1536, 'postcode'], ['สมุทรสาคร', nan, 1251, 'postcode'], ['ระยอง', 'ระยอง', 10237, 'postcode'], ['กรุงเทพมหานคร', 'กรุงเทพ', 1084, 'postcode'], ['กรุงเทพมหานคร', 'สมุทรปราการ', 1047, 'postcode'], ['กรุงเทพมหานคร', 'สมุทรปราการ', 1721, 'postcode'], ['อุดรธานี', 'อุดรธานี', 1709, 'postcode'], ['นครราชสีมา', nan, 10155, 'postcode'], ['กรุงเทพมหานคร', nan, 10157, 'postcode'], ['กรุงเทพมหานคร', 'กรุงเทพ', 10779, 'postcode'], ['อุบลราชธานี', 'อุบลราชธานี', 1086, 'postcode'], ['สระบุรี', 'สระบุรี', 1087, 'double_postcode'], [['อุดรธานี'], 'อุดรธานี', 1093, 'levenshtein'], ['กรุงเทพมหานคร', 'กรุงเทพ', 1736, 'postcode'], ['พระนครศรีอยุธยา', 'อยุธยา', 10778, 'postcode'], ['ชลบุรี', 'ชลบุรี', 1078, 'postcode'], ['ปทุมธานี', 'ปทุมธานี', 1326, 'postcode'], ['กรุงเทพมหานคร', 'กรุงเทพ', 1040, 'postcode'], ['กรุงเทพมหานคร', 'กรุงเทพ', 1726, 'postcode'], ['นนทบุรี', 'นนทบุรี', 1083, 'postcode'], ['สมุทรปราการ', 'สมุทรปราการ', 10783, 'double_postcode'], ['นครศรีธรรมราช', 'นครศรีธรรมราช', 10224, 'postcode'], ['ปัตตานี', 'ปัตตานี', 10557, 'postcode'], ['กรุงเทพมหานคร', 'กรุงเทพ', 10225, 'postcode'], ['ชลบุรี', 'ชลบุรี', 1069, 'postcode'], ['นนทบุรี', 'นนทบุรี', 10347, 'postcode'], ['ตราด', nan, 1309, 'double_postcode'], ['ระยอง', nan, 10151, 'postcode'], ['กรุงเทพมหานคร', 'กรุงเทพ', 1725, 'postcode'], ['อุบลราชธานี', 'อุบลราชธานี', 1719, 'postcode'], ['ปทุมธานี', 'ปทุมธานี', 10780, 'postcode'], [['อุบลราชธานี'], 'อุบลราชธานี', 1269, 'levenshtein'], ['ปทุมธานี', 'ปทุมธานี่', 1095, 'postcode'], ['สมุทรปราการ', 'สมุทรปราการ', 1718, 'postcode'], ['อุทัยธานี', 'อุทัยธานี', 1724, 'postcode'], ['ปราจีนบุรี', 'ปราจีนบุรี', 10622, 'postcode'], [['ลำปาง'], 'นครปฐม', 1334, 'levenshtein'], ['กรุงเทพมหานคร', 'กรุงเทพ', 10439, 'postcode'], [['อุบลราชธานี', 'นครราชสีมา', 'เลย', 'ตรัง'], 'กรุงเทพ', 1305, 'levenshtein'], ['ชลบุรี', 'ชลบุรี', 1073, 'postcode'], ['ฉะเชิงเทรา', 'ฉะเชิงเทรา', 1259, 'postcode'], ['กรุงเทพมหานคร', 'กรุงเทพ', 1489, 'postcode'], [['กรุงเทพมหานคร'], 'กรุงเทพ', 1304, 'levenshtein'], ['สุพรรณบุรี', 'สุพรรณบุรี', 1462, 'postcode'], ['ภูเก็ต', 'ภูเก็ต', 1070, 'postcode'], ['สุราษฎร์ธานี', 'สุราษฏร์ธานี', 10214, 'postcode'], ['กรุงเทพมหานคร', 'กรุงเทพ', 1272, 'postcode'], ['นครราชสีมา', 'นครราชสีมา', 1266, 'postcode'], ['ชัยนาท', 'ชัยนาท', 1299, 'postcode'], [['ปัตตานี'], 'อยุธยา', 1298, 'levenshtein'], ['กรุงเทพมหานคร', 'กรุงเทพ', 1071, 'postcode'], ['ชลบุรี', 'ชลบุรี', 1465, 'postcode'], ['ปทุมธานี', 'ปทุมธานี', 1505, 'postcode'], ['กรุงเทพมหานคร', 'ขอนแก่น', 1538, 'postcode'], ['สงขลา', 'สงขลา', 10238, 'postcode'], ['ประจวบคีรีขันธ์', 'ประจวบคีรีขันธ์', 1074, 'postcode'], ['ปทุมธานี', 'ปทุมธานี', 10364, 'postcode'], ['กรุงเทพมหานคร', 'กรุงเทพ', 1464, 'postcode'], ['กรุงเทพมหานคร', 'กรุงเทพ', 1076, 'postcode'], ['กรุงเทพมหานคร', 'กรุงเทพ', 1738, 'postcode'], ['นครราชสีมา', 'นครราชสีมา', 1506, 'postcode'], ['กรุงเทพมหานคร', 'กรุงเทพ', 1512, 'postcode'], ['สมุทรสาคร', 'สมุทรสาคร', 1088, 'postcode'], ['จันทบุรี', 'จันทบุรี', 10777, 'postcode'], ['กรุงเทพมหานคร', nan, 130, 'postcode'], ['กรุงเทพมหานคร', 'กรุงเทพ', 1602, 'double_postcode'], ['กรุงเทพมหานคร', 'ระยอง', 10704, 'postcode'], ['พระนครศรีอยุธยา', 'อยุธยา', 10506, 'postcode'], ['อุบลราชธานี', 'อุบลราชธานี', 10248, 'postcode'], ['กรุงเทพมหานคร', 'กรุงเทพ', 10249, 'double_postcode'], ['ชุมพร', 'ชุมพร', 1549, 'postcode'], ['ชัยภูมิ', 'ชัยภูมิ', 10507, 'postcode'], ['เชียงใหม่', 'เชียงใหม่', 10275, 'postcode'], ['กรุงเทพมหานคร', 'ระยอง', 10705, 'postcode'], ['ปทุมธานี', 'ปทุมธานี', 1603, 'postcode'], ['เลย', 'เลย', 10315, 'postcode'], ['นครสวรรค์', 'นครสวรรค์', 10317, 'postcode'], ['กรุงเทพมหานคร', 'กรุงเทพ', 1365, 'postcode'], ['กรุงเทพมหานคร', 'กรุงเทพ', 1417, 'postcode'], ['ปทุมธานี', 'ปทุมธานี', 1601, 'postcode'], ['กรุงเทพมหานคร', 'กรุงเทพ', 10511, 'postcode'], ['ราชบุรี', 'ราชบุรี', 10288, 'postcode'], ['สุราษฎร์ธานี', 'สุราษฎร์ธานี', 10289, 'postcode'], ['สมุทรปราการ', 'สมุทรปราการ', 10510, 'postcode'], ['ชลบุรี', 'ชลบุรี', 10100, 'postcode'], ['พระนครศรีอยุธยา', 'พระนครศรีอยุธยา', 10312, 'postcode'], [['เพชรบูรณ์', 'เพชรบุรี'], 'เพชรบุรี', 10266, 'levenshtein'], ['ปทุมธานี', 'ปทุมธานี', 10272, 'postcode'], ['กรุงเทพมหานคร', 'กรุงเทพ', 10299, 'postcode'], ['กรุงเทพมหานคร', 'กรุงเทพ', 10273, 'postcode'], ['มุกดาหาร', 'มุกดาหาร', 10267, 'postcode'], [['ปทุมธานี'], 'ปทุมธานี', 1611, 'levenshtein'], ['อุดรธานี', 'อุดรธานี', 1605, 'postcode'], ['มุกดาหาร', 'มุกดาหาร', 10307, 'postcode'], ['ปทุมธานี', 'ปทุมธานี', 10313, 'postcode'], ['กรุงเทพมหานคร', 'กรุงเทพ', 1613, 'postcode'], ['กรุงเทพมหานคร', 'กรุงเทพ', 10067, 'postcode'], ['กรุงเทพมหานคร', 'กรุงเทพ', 10517, 'postcode'], ['ฉะเชิงเทรา', 'ฉะเชิงเทรา', 10271, 'postcode'], ['ลำปาง', 'ลำปาง', 10265, 'postcode'], ['ศรีสะเกษ', 'ศรีสะเกษ', 10503, 'postcode'], ['ปราจีนบุรี', 'ปราจีนบุรี', 10516, 'postcode'], ['อุดรธานี', 'อุดรธานี', 10270, 'postcode'], ['กรุงเทพมหานคร', 'กรุงเทพ', 1202, 'postcode'], ['ชลบุรี', 'ชลบุรี', 10066, 'postcode'], ['กรุงเทพมหานคร', 'กรุงเทพ', 10310, 'postcode']]\n"
     ]
    },
    {
     "name": "stderr",
     "output_type": "stream",
     "text": [
      "/Users/i351707/anaconda3/lib/python3.6/site-packages/ipykernel_launcher.py:5: FutureWarning: get_value is deprecated and will be removed in a future release. Please use .at[] or .iat[] accessors instead\n",
      "  \"\"\"\n",
      "/Users/i351707/anaconda3/lib/python3.6/site-packages/ipykernel_launcher.py:35: FutureWarning: get_value is deprecated and will be removed in a future release. Please use .at[] or .iat[] accessors instead\n",
      "/Users/i351707/anaconda3/lib/python3.6/site-packages/ipykernel_launcher.py:36: FutureWarning: get_value is deprecated and will be removed in a future release. Please use .at[] or .iat[] accessors instead\n",
      "/Users/i351707/anaconda3/lib/python3.6/site-packages/ipykernel_launcher.py:26: FutureWarning: get_value is deprecated and will be removed in a future release. Please use .at[] or .iat[] accessors instead\n",
      "/Users/i351707/anaconda3/lib/python3.6/site-packages/ipykernel_launcher.py:8: FutureWarning: get_value is deprecated and will be removed in a future release. Please use .at[] or .iat[] accessors instead\n",
      "  \n",
      "/Users/i351707/anaconda3/lib/python3.6/site-packages/ipykernel_launcher.py:9: FutureWarning: get_value is deprecated and will be removed in a future release. Please use .at[] or .iat[] accessors instead\n",
      "  if __name__ == '__main__':\n"
     ]
    }
   ],
   "source": [
    "address = list()\n",
    "\n",
    "for index in raw_txt.index:\n",
    "    \n",
    "    text = raw_txt.get_value(index,'text')\n",
    "    if get_province_postcode(text, index) == 'unable to locate province through possible postcode' or get_province_postcode(text, index) == []:\n",
    "        \n",
    "        text = raw_txt.get_value(index,'text')\n",
    "        address.append([get_province_levenshtein(text),raw_txt.get_value(index,'Recipient state'), index, 'levenshtein'])\n",
    "        \n",
    "        \n",
    "    elif len(get_province_postcode(text, index)) > 1:\n",
    "        # chooose which one have a lower levenshtein value compare to the province get in province levenshtein\n",
    "        # assuming there is gonna be one province levenshtein\n",
    "        # if we have multiple postcode\n",
    "        max_score = 0\n",
    "        postcode = get_province_postcode(text,index)\n",
    "        leven = get_province_levenshtein(text)\n",
    "        for p in postcode:\n",
    "            for l in leven:\n",
    "                max_score = max(max_score, fuzz.partial_ratio(p, l))\n",
    "        try:        \n",
    "            for p in postcode:\n",
    "                for l in leven:\n",
    "                    if fuzz.partial_ratio(p, l) == max_score:\n",
    "                        address.append([p, raw_txt.get_value(index,'Recipient state'), index, 'double_postcode'])\n",
    "                        raise StopIteration\n",
    "        except StopIteration:\n",
    "            pass\n",
    "                    \n",
    "            \n",
    "            \n",
    "    else:\n",
    "        try:\n",
    "            text = raw_txt.get_value(index,'text')\n",
    "            address.append([get_province_postcode(text,index)[0],raw_txt.get_value(index,'Recipient state'),index, 'postcode'])\n",
    "        except Exception:\n",
    "            address.append(['err', index])\n",
    "    \n",
    "# print(address)\n",
    "print(len(address))\n",
    "count = 0\n",
    "print(address)"
   ]
  },
  {
   "cell_type": "markdown",
   "metadata": {},
   "source": [
    "#### to verify how much is correct"
   ]
  },
  {
   "cell_type": "code",
   "execution_count": 136,
   "metadata": {},
   "outputs": [
    {
     "name": "stdout",
     "output_type": "stream",
     "text": [
      "['แพร่', 'สมุทรสาคร', 1224, 'double_postcode']\n",
      "'in <string>' requires string as left operand, not float\n",
      "['กรุงเทพมหานคร', 'เลย', 1356, 'postcode']\n",
      "['กรุงเทพมหานคร', 'สมุทรปราการ', 1381, 'postcode']\n",
      "['ปทุมธานี', 'ชลบุรี', 10287, 'postcode']\n",
      "['ประจวบคีรีขันธ์', 'กรุงเทพ', 1586, 'double_postcode']\n",
      "['กรุงเทพมหานคร', 'สมุทรปราการ', 1182, 'postcode']\n",
      "['ชลบุรี', 'กรุงเทพ', 1196, 'double_postcode']\n",
      "'in <string>' requires string as left operand, not float\n",
      "['กรุงเทพมหานคร', 'สมุทรปราการ', 1047, 'postcode']\n",
      "['กรุงเทพมหานคร', 'สมุทรปราการ', 1721, 'postcode']\n",
      "'in <string>' requires string as left operand, not float\n",
      "'in <string>' requires string as left operand, not float\n",
      "'in <string>' requires string as left operand, not float\n",
      "'in <string>' requires string as left operand, not float\n",
      "['ปทุมธานี', 'ปทุมธานี่', 1095, 'postcode']\n",
      "[['ลำปาง'], 'นครปฐม', 1334, 'levenshtein']\n",
      "[['อุบลราชธานี', 'นครราชสีมา', 'เลย', 'ตรัง'], 'กรุงเทพ', 1305, 'levenshtein']\n",
      "['สุราษฎร์ธานี', 'สุราษฏร์ธานี', 10214, 'postcode']\n",
      "[['ปัตตานี'], 'อยุธยา', 1298, 'levenshtein']\n",
      "['กรุงเทพมหานคร', 'ขอนแก่น', 1538, 'postcode']\n",
      "'in <string>' requires string as left operand, not float\n",
      "['กรุงเทพมหานคร', 'ระยอง', 10704, 'postcode']\n",
      "['กรุงเทพมหานคร', 'ระยอง', 10705, 'postcode']\n",
      "[['เพชรบูรณ์', 'เพชรบุรี'], 'เพชรบุรี', 10266, 'levenshtein']\n"
     ]
    },
    {
     "data": {
      "text/plain": [
       "152"
      ]
     },
     "execution_count": 136,
     "metadata": {},
     "output_type": "execute_result"
    }
   ],
   "source": [
    "both_way_right = 0\n",
    "for i in address:\n",
    "    try:\n",
    "        if type(i[0]) == str:\n",
    "            if i[1] in i[0]:\n",
    "                both_way_right += 1\n",
    "            else:\n",
    "                print(i)\n",
    "        else:\n",
    "            if i[1] in i[0][0]:\n",
    "                both_way_right += 1\n",
    "            else:\n",
    "                print(i)\n",
    "    except Exception as e:\n",
    "        print(e)\n",
    "both_way_right"
   ]
  },
  {
   "cell_type": "markdown",
   "metadata": {},
   "source": [
    "#### 10266, 10214, 1095 are correct cases"
   ]
  }
 ],
 "metadata": {
  "kernelspec": {
   "display_name": "Python 3",
   "language": "python",
   "name": "python3"
  },
  "language_info": {
   "codemirror_mode": {
    "name": "ipython",
    "version": 3
   },
   "file_extension": ".py",
   "mimetype": "text/x-python",
   "name": "python",
   "nbconvert_exporter": "python",
   "pygments_lexer": "ipython3",
   "version": "3.6.4"
  }
 },
 "nbformat": 4,
 "nbformat_minor": 2
}
