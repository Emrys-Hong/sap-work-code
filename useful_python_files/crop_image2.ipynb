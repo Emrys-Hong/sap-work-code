{
 "cells": [
  {
   "cell_type": "code",
   "execution_count": 1,
   "metadata": {},
   "outputs": [],
   "source": [
    "import xml.etree.ElementTree as ET\n",
    "from os import listdir\n",
    "from os.path import isfile, join\n",
    "import cv2"
   ]
  },
  {
   "cell_type": "code",
   "execution_count": 5,
   "metadata": {},
   "outputs": [],
   "source": [
    "onlyfiles = [f[:-4] for f in listdir('/Users/i351707/Desktop/useful_python_files/xml_label2') if isfile(join('/Users/i351707/Desktop/images/xml_label2', f))]"
   ]
  },
  {
   "cell_type": "code",
   "execution_count": 6,
   "metadata": {},
   "outputs": [
    {
     "data": {
      "text/plain": [
       "251"
      ]
     },
     "execution_count": 6,
     "metadata": {},
     "output_type": "execute_result"
    }
   ],
   "source": [
    "len(onlyfiles)"
   ]
  },
  {
   "cell_type": "code",
   "execution_count": 7,
   "metadata": {},
   "outputs": [],
   "source": [
    "for number in onlyfiles:\n",
    "    img = cv2.imread(\"/Users/i351707/Desktop/useful_python_files/images_for_training2/\"+number+\".png\")\n",
    "    tree = ET.parse('/Users/i351707/Desktop/useful_python_files//xml_label2/'+number+'.xml')\n",
    "    root = tree.getroot()\n",
    "\n",
    "    for i in root.findall('./object'):\n",
    "        if i[0].text == 'txt':\n",
    "            xmin = int(i[4][0].text)\n",
    "            ymin = int(i[4][1].text)\n",
    "            xmax = int(i[4][2].text)\n",
    "            ymax = int(i[4][3].text)\n",
    "            crop_img = img[ymin:ymax, xmin:xmax]\n",
    "            cv2.imwrite('/Users/i351707/Desktop/cropped_images/'+number+'.png', crop_img)"
   ]
  },
  {
   "cell_type": "code",
   "execution_count": null,
   "metadata": {},
   "outputs": [],
   "source": []
  }
 ],
 "metadata": {
  "kernelspec": {
   "display_name": "Python 3",
   "language": "python",
   "name": "python3"
  },
  "language_info": {
   "codemirror_mode": {
    "name": "ipython",
    "version": 3
   },
   "file_extension": ".py",
   "mimetype": "text/x-python",
   "name": "python",
   "nbconvert_exporter": "python",
   "pygments_lexer": "ipython3",
   "version": "3.6.4"
  }
 },
 "nbformat": 4,
 "nbformat_minor": 2
}
