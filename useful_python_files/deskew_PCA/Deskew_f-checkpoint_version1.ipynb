{
 "cells": [
  {
   "cell_type": "code",
   "execution_count": 3,
   "metadata": {},
   "outputs": [],
   "source": [
    "from PIL import Image\n",
    "import numpy as np\n",
    "import matplotlib.pyplot as plt\n",
    "import cv2\n",
    "import pandas as pd\n",
    "import os\n",
    "\n",
    "WHITE, BLACK = 127, 225"
   ]
  },
  {
   "cell_type": "code",
   "execution_count": 4,
   "metadata": {},
   "outputs": [],
   "source": [
    "# read in image in greyscale\n",
    "def getImg(image_path):\n",
    "    return cv2.imread(image_path)\n",
    "\n",
    "def getImg_bnw(image_path):\n",
    "    return cv2.imread(image_path, 0)\n",
    "\n",
    "def binarizeImg(im):\n",
    "    ### a threshold in front\n",
    "#     im = cv2.threshold(im, 0, 255, cv2.THRESH_BINARY | cv2.THRESH_OTSU)[1]\n",
    "    ### end of threshold\n",
    "    \n",
    "    ### code to filter out not black part first\n",
    "    hsv = cv2.cvtColor(im, cv2.COLOR_BGR2HSV)\n",
    "    \n",
    "    lower_black = np.array([0,0,0])\n",
    "    upper_black = np.array([130,130,130])\n",
    "    \n",
    "    mask = cv2.inRange(hsv, lower_black, upper_black)\n",
    "    res = cv2.bitwise_and(im,im, mask= mask)\n",
    "    ### end of filtering\n",
    "    \n",
    "    im = cv2.cvtColor(res, cv2.COLOR_BGR2GRAY)\n",
    "\n",
    "    gray = cv2.bitwise_not(im)\n",
    "\n",
    "    ### guassian blur and otsu thresholding\n",
    "    gray = cv2.GaussianBlur(gray,(5,5),0)\n",
    "    thresh_img = cv2.threshold(gray, 0, 255, cv2.THRESH_BINARY | cv2.THRESH_OTSU)[1]\n",
    "    return thresh_img\n",
    "\n",
    "def binarizeImg1(im):\n",
    "    im = cv2.cvtColor(im, cv2.COLOR_BGR2GRAY)\n",
    "\n",
    "    gray = cv2.bitwise_not(im)\n",
    "\n",
    "    ### guassian blur and otsu thresholding\n",
    "    gray = cv2.GaussianBlur(gray,(5,5),0)\n",
    "    thresh_img = cv2.threshold(gray, 0, 255, cv2.THRESH_BINARY | cv2.THRESH_OTSU)[1]\n",
    "    cv2.imwrite('binResults.png', thresh_img)\n",
    "    return thresh_img\n",
    "\n",
    "\n",
    "def cvtImageToPoints(binImg):\n",
    "    Xs = []\n",
    "    Ys = []\n",
    "    data = []\n",
    "    h, w = binImg.shape\n",
    "    for i in range(h):\n",
    "        for j in range(w):\n",
    "            if binImg[i][j] == 0:\n",
    "                Xs.append(j)\n",
    "                Ys.append(i)\n",
    "                data.append([j,i])\n",
    "    return np.asarray(data), np.asarray(Xs), np.asarray(Ys)\n",
    "\n",
    "def getFirstComponent(image_path):\n",
    "    img = getImg(image_path)\n",
    "    try:\n",
    "        thresh_img = binarizeImg(img)\n",
    "        data, Xs, Ys = cvtImageToPoints(thresh_img)\n",
    "        mean_vec = np.mean(data, axis=0)\n",
    "\n",
    "        # Calculate the deviations from the mean\n",
    "        cov_mat = (data - mean_vec).T.dot((data - mean_vec)) / (data.shape[0]-1)\n",
    "        eig_vals, eig_vecs = np.linalg.eig(cov_mat)\n",
    "        eig_pairs = [(np.abs(eig_vals[i]), eig_vecs[:,i]) for i in range(len(eig_vals))]\n",
    "        eig_pairs.sort(key=lambda x: x[0], reverse=True)\n",
    "\n",
    "\n",
    "        vec_x = [(eig_pairs[0][1][0]+eig_pairs[0][1][0])/2, (eig_pairs[0][1][1]+eig_pairs[1][1][0])/2]\n",
    "        vec_y = [(eig_pairs[1][1][0]+eig_pairs[0][1][1])/2, (eig_pairs[1][1][1]+eig_pairs[1][1][1])/2]\n",
    "\n",
    "        first_cpts = [vec_x[0],vec_y[0]] # more robust\n",
    "\n",
    "        return first_cpts\n",
    "    \n",
    "    except Exception:\n",
    "        thresh_img = binarizeImg1(img)\n",
    "        data, Xs, Ys = cvtImageToPoints(thresh_img)\n",
    "        mean_vec = np.mean(data, axis=0)\n",
    "\n",
    "        # Calculate the deviations from the mean\n",
    "        cov_mat = (data - mean_vec).T.dot((data - mean_vec)) / (data.shape[0]-1)\n",
    "        eig_vals, eig_vecs = np.linalg.eig(cov_mat)\n",
    "        eig_pairs = [(np.abs(eig_vals[i]), eig_vecs[:,i]) for i in range(len(eig_vals))]\n",
    "        eig_pairs.sort(key=lambda x: x[0], reverse=True)\n",
    "\n",
    "\n",
    "        vec_x = [(eig_pairs[0][1][0]+eig_pairs[0][1][0])/2, (eig_pairs[0][1][1]+eig_pairs[1][1][0])/2]\n",
    "        vec_y = [(eig_pairs[1][1][0]+eig_pairs[0][1][1])/2, (eig_pairs[1][1][1]+eig_pairs[1][1][1])/2]\n",
    "\n",
    "        first_cpts = [vec_x[0],vec_y[0]] # more robust\n",
    "\n",
    "        return first_cpts\n",
    "        \n",
    "\n",
    "def isFlipped(thresh_img):\n",
    "    left = thresh_img[0:thresh_img.shape[0], 0:thresh_img.shape[1]//4]\n",
    "    right = thresh_img[0:thresh_img.shape[0], (thresh_img.shape[1]-thresh_img.shape[1]//4):thresh_img.shape[1]]\n",
    "    return len(cvtImageToPoints(left)[0]) < len(cvtImageToPoints(right)[0])\n",
    "\n",
    "def getAngle(vector):\n",
    "    from math import atan2, pi\n",
    "    rad = atan2(vector[1], vector[0])\n",
    "    deg = rad/(2*pi) * 360\n",
    "    #print(deg)\n",
    "    return deg\n",
    "\n",
    "# angle in degree, positive means clockwise rotation\n",
    "def rotate_bound(image, angle):\n",
    "    # grab the dimensions of the image and then determine the\n",
    "    # center\n",
    "    (h, w) = image.shape[:2]\n",
    "    (cX, cY) = (w / 2, h / 2)\n",
    "    \n",
    "    # grab the rotation matrix (applying the negative of the\n",
    "    # angle to rotate clockwise), then grab the sine and cosine\n",
    "    # (i.e., the rotation components of the matrix)\n",
    "    M = cv2.getRotationMatrix2D((cX, cY), -angle, 1.0)\n",
    "    cos = np.abs(M[0, 0])\n",
    "    sin = np.abs(M[0, 1])\n",
    "\n",
    "    # compute the new bounding dimensions of the image\n",
    "    nW = int((h * sin) + (w * cos))\n",
    "    nH = int((h * cos) + (w * sin))\n",
    "\n",
    "    # adjust the rotation matrix to take into account translation\n",
    "    M[0, 2] += (nW / 2) - cX\n",
    "    M[1, 2] += (nH / 2) - cY\n",
    "\n",
    "    # perform the actual rotation and return the image\n",
    "    return cv2.warpAffine(image, M, (nW, nH),borderMode=0, borderValue=(255,255,255))\n",
    "\n",
    "def rotateImg(data_path):\n",
    "    img = getImg(data_path)\n",
    "    im = binarizeImg(img)\n",
    "    first_cpts = getFirstComponent(data_path)\n",
    "\n",
    "#     rotated = rotate_bound(img1, getAngle(first_cpts))\n",
    "#     if isFlipped(rotated):\n",
    "#         first_cpts = [-1*first_cpts[0], -1*first_cpts[1]]\n",
    "#         rotated = rotate_bound(im, getAngle(first_cpts))\n",
    "\n",
    "    rotated = rotate_bound(im, getAngle(first_cpts))\n",
    "    \n",
    "    return rotated"
   ]
  },
  {
   "cell_type": "code",
   "execution_count": 5,
   "metadata": {},
   "outputs": [
    {
     "name": "stdout",
     "output_type": "stream",
     "text": [
      "OpenCV(3.4.1) /Users/travis/build/skvark/opencv-python/opencv/modules/imgproc/src/color.cpp:11214: error: (-215) (scn == 3 || scn == 4) && (depth == 0 || depth == 5) in function cvtColor\n",
      "\n"
     ]
    },
    {
     "name": "stderr",
     "output_type": "stream",
     "text": [
      "/Users/i351707/anaconda3/lib/python3.6/site-packages/numpy/core/fromnumeric.py:2957: RuntimeWarning: Mean of empty slice.\n",
      "  out=out, **kwargs)\n",
      "/Users/i351707/anaconda3/lib/python3.6/site-packages/numpy/core/_methods.py:80: RuntimeWarning: invalid value encountered in double_scalars\n",
      "  ret = ret.dtype.type(ret / rcount)\n"
     ]
    }
   ],
   "source": [
    "onlyfiles = [f for f in os.listdir('/Users/i351707/Desktop/useful_python_files/cropped_images_version1_without_cnn/')]\n",
    "os.chdir('/Users/i351707/Desktop/useful_python_files/cropped_images_version1_without_cnn/')\n",
    "for file in onlyfiles:\n",
    "    try:\n",
    "        rotated = rotateImg(file)\n",
    "\n",
    "        cv2.imwrite(file.split('.')[0]+'.jpg',rotated)\n",
    "    except Exception as e:\n",
    "        print (e)"
   ]
  },
  {
   "cell_type": "markdown",
   "metadata": {},
   "source": [
    "## try out individually"
   ]
  },
  {
   "cell_type": "code",
   "execution_count": 5,
   "metadata": {},
   "outputs": [
    {
     "data": {
      "text/plain": [
       "True"
      ]
     },
     "execution_count": 5,
     "metadata": {},
     "output_type": "execute_result"
    }
   ],
   "source": [
    "rotated = rotateImg('1096.png')\n",
    "cv2.imwrite('results.png',rotated)"
   ]
  },
  {
   "cell_type": "code",
   "execution_count": null,
   "metadata": {},
   "outputs": [],
   "source": []
  }
 ],
 "metadata": {
  "kernelspec": {
   "display_name": "Python 3",
   "language": "python",
   "name": "python3"
  },
  "language_info": {
   "codemirror_mode": {
    "name": "ipython",
    "version": 3
   },
   "file_extension": ".py",
   "mimetype": "text/x-python",
   "name": "python",
   "nbconvert_exporter": "python",
   "pygments_lexer": "ipython3",
   "version": "3.6.4"
  }
 },
 "nbformat": 4,
 "nbformat_minor": 2
}
