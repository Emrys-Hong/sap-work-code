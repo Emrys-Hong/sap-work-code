{
 "cells": [
  {
   "cell_type": "code",
   "execution_count": 11,
   "metadata": {},
   "outputs": [],
   "source": [
    "from PIL import Image\n",
    "from os import listdir\n",
    "from os.path import isfile, join\n",
    "from xml.dom import minidom\n",
    "import xml.etree.ElementTree as ET\n",
    "import cv2"
   ]
  },
  {
   "cell_type": "code",
   "execution_count": 22,
   "metadata": {},
   "outputs": [],
   "source": [
    "onlyfiles = [f[:-4] for f in listdir('/Users/i351707/Desktop/useful_python_files/images_for_training2') if isfile(join('/Users/i351707/Desktop/useful_python_files/images_for_training2', f))]"
   ]
  },
  {
   "cell_type": "code",
   "execution_count": 38,
   "metadata": {},
   "outputs": [],
   "source": [
    "for file in onlyfiles[:1]:\n",
    "    image = cv2.imread('/Users/i351707/Desktop/useful_python_files/images_for_training2/'+file+'.png')\n",
    "    \n",
    "    tree = ET.parse('/Users/i351707/Desktop/useful_python_files/xml_label2/'+file+'.xml')\n",
    "    root = tree.getroot()\n",
    "    for child in root.iter('object'):\n",
    "        if child[0].text == 'ba':\n",
    "            xmin = child[4][0].text\n",
    "            ymin = child[4][1].text\n",
    "            xmax = child[4][2].text\n",
    "            ymax = child[4][3].text\n",
    "            \n",
    "\n",
    "    "
   ]
  },
  {
   "cell_type": "code",
   "execution_count": null,
   "metadata": {},
   "outputs": [],
   "source": []
  }
 ],
 "metadata": {
  "kernelspec": {
   "display_name": "Python 3",
   "language": "python",
   "name": "python3"
  },
  "language_info": {
   "codemirror_mode": {
    "name": "ipython",
    "version": 3
   },
   "file_extension": ".py",
   "mimetype": "text/x-python",
   "name": "python",
   "nbconvert_exporter": "python",
   "pygments_lexer": "ipython3",
   "version": "3.6.4"
  }
 },
 "nbformat": 4,
 "nbformat_minor": 2
}
